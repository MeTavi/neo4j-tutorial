{
 "cells": [
  {
   "cell_type": "markdown",
   "metadata": {},
   "source": [
    "# Overview\n",
    "\n",
    "* [Introduction](#Introduction)\n",
    "    * Neo4j & Python\n",
    "* [Setup](#Setup) \n",
    "    * Install Neo4j\n",
    "    * Data Access\n",
    "* [The Basics](#The-Basics)\n",
    "    * Creating Nodes\n",
    "    * Creating Edges Between Nodes\n",
    "    * Writing a Query\n",
    "* [Working With The DREAM Data](#Working-With-The-DREAM-Data)"
   ]
  },
  {
   "cell_type": "markdown",
   "metadata": {},
   "source": [
    "# Introduction\n",
    "\n",
    "### Neo4j & Python"
   ]
  },
  {
   "cell_type": "markdown",
   "metadata": {},
   "source": [
    "# Setup\n",
    "\n",
    "### Install Neo4j\n",
    "\n",
    "There are a number of ways you can install Neo4j. If you have homebrew, type the following command into your terminal:\n",
    "```\n",
    "brew install neo4j\n",
    "```\n",
    "Alternatively:\n",
    "* Go to the [Neo4j website](https://neo4j.com)\n",
    "* Click the big red Download button\n",
    "* Click the green Download Community Edition button\n",
    "* Select the appropriate download and run through the installation steps required by your OS\n",
    "\n",
    "### Data Access\n",
    "\n",
    "* Open up your preferred terminal app\n",
    "* If you haven't already cloned this repository to your local machine, go ahead and do that now\n",
    "    * To see how to do this, see the README.md of the Github repository\n",
    "* With the repository cloned, cd to its location.\n",
    "* Pull the data from Church: \n",
    "```\n",
    "scp -r username@church.ohsu.edu:~/../cordierb/neo4j-tutorial/data .\n",
    "```\n",
    "\n",
    "*Note: If you're unfamiliar with the scp command, in brief, it allows you to transfer files and directories between machines (usually your local machine and a server). The trailing '.' in the command will pull the data to your current directory – if you're not already in the repository's directory, you can specify an absolute path in place of the '.' (e.g. ~/Desktop/neo4j-tutorial)*"
   ]
  },
  {
   "cell_type": "markdown",
   "metadata": {},
   "source": [
    "# The Basics"
   ]
  },
  {
   "cell_type": "markdown",
   "metadata": {},
   "source": [
    "# Working With The Dream Data"
   ]
  },
  {
   "cell_type": "code",
   "execution_count": null,
   "metadata": {
    "collapsed": true
   },
   "outputs": [],
   "source": []
  }
 ],
 "metadata": {
  "kernelspec": {
   "display_name": "Python 3",
   "language": "python",
   "name": "python3"
  },
  "language_info": {
   "codemirror_mode": {
    "name": "ipython",
    "version": 3
   },
   "file_extension": ".py",
   "mimetype": "text/x-python",
   "name": "python",
   "nbconvert_exporter": "python",
   "pygments_lexer": "ipython3",
   "version": "3.5.1"
  }
 },
 "nbformat": 4,
 "nbformat_minor": 0
}
