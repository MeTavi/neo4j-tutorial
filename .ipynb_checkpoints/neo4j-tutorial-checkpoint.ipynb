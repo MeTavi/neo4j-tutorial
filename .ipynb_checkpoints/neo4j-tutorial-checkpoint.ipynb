{
 "cells": [
  {
   "cell_type": "markdown",
   "metadata": {},
   "source": [
    "# Overview\n",
    "\n",
    "* [Introduction](#Introduction)\n",
    "    * Neo4j & Python\n",
    "* [Setup](#Setup) \n",
    "    * Mac OS X - Homebrew\n",
    "    * Mac OS X & Microsoft Windows – Desktop Application\n",
    "    * Setup Database Authentication\n",
    "    * Authentication's No Fun :(\n",
    "    * Helpful Installaton Hints\n",
    "* [Data Access](#Data-Access)\n",
    "    * Disease Module Detection DREAM Challenge Data\n",
    "* [The Basics](#The-Basics)\n",
    "    * Creating Nodes\n",
    "    * Creating Edges Between Nodes\n",
    "    * Writing a Query\n",
    "* [Working With The DREAM Data](#Working-With-The-Dream-Data)"
   ]
  },
  {
   "cell_type": "markdown",
   "metadata": {},
   "source": [
    "# Introduction\n",
    "\n",
    "### Neo4j & Python\n",
    "\n"
   ]
  },
  {
   "cell_type": "markdown",
   "metadata": {},
   "source": [
    "# Setup\n",
    "\n",
    "We've tested two ways to setup Neo4j on Mac OS X and one on Microsoft Windows that you can choose from below. If you have any issues, give a shout and either of us are happy to come lend a hand. \n",
    "\n",
    "### Mac OS X – Homebrew\n",
    "\n",
    "#### Install Neo4j\n",
    "\n",
    "There are a number of ways you can install Neo4j. If you have homebrew, type the following command into your terminal:\n",
    "```\n",
    "brew install neo4j\n",
    "```\n",
    "Be sure to take note of what version is installed (there's a chance you may need this in a moment); for me it was 3.0.3, but at the time of writing the latest is 3.0.6. \n",
    "\n",
    "### Mac OS X & Microsoft Windows – Desktop Application\n",
    "\n",
    "#### Install Neo4j\n",
    "\n",
    "* Go to the [Neo4j website](https://neo4j.com)\n",
    "* Click the big red Download button\n",
    "* Click the green Download Community Edition button\n",
    "* Select the appropriate download and run through the installation steps required by your OS\n",
    "\n",
    "### Setup Database Authentication\n",
    "\n",
    "We recommend setting up a username/password for your Neo4j software, to do this:\n",
    "\n",
    "* Go to your terminal application and open up a new window or pane, and type ```neo4j start```\n",
    "* Next, open up your web browser and navigate to: ```http://localhost:7474```.\n",
    "* You should be prompted to set a new username/password. Of course, make sure it's something you'll remember; resetting your username/password in Neo4j tends to be a bit of terminal hackery. \n",
    "\n",
    "Once you've set this up, you may want to take a moment and explore the Neo4j web application. It's a cute way to play around with some toy databases, send some queries, and get a feel for the syntax and functionality. If you're thinking, 'Meh, I'm not into toys and cute stuff, I'm a hardcore bioinformaticist!', scroll down to the Data Access portion for some not-so-cute bioinformatics data. \n",
    "\n",
    "### Authentication's No Fun : (\n",
    "\n",
    "Security through authentication is important, but we're realists and know that this is a tutorial...so if you installed with homebrew and are having trouble getting the authentication up and running quickly, you can shut off authentication. To do that, do the following:\n",
    "\n",
    "* Use your terminal to navigate to the following directory (*Hint: replace VERSION with the version you just wrote down*):\n",
    "```\n",
    "cd /usr/local/Cellar/neo4j/VERSION/libexec/conf/\n",
    "```\n",
    "* Now in the ```conf/``` directory, open the file ```neo4j.conf``` using your preferred terminal editor (e.g. Vim, Emacs, Nano)\n",
    "* Scroll through the file until you find the following line (it should be near the top):\n",
    "```\n",
    "# dbms.security.auth_enabled=false\n",
    "```\n",
    "* Per the instructions in the file, uncomment the line. It should look like this: \n",
    "```\n",
    "dbms.security.auth_enabled=false\n",
    "```\n",
    "* Save and close ```neo4j.conf```\n",
    "* Pat your self on the back; your database is now security free...\n",
    "\n",
    "**Caveat:** *With great power comes great responsibility. In the interest of getting started quickly, we're offering the above instructions as an option. That said, we feel obliged to say that disabling authentication should never, ever be done in a production environment or for any database(s) hosting sensitive data. If you plan on using Neo4j outside the scope of this tutorial, be sure to setup authentication the proper way (above). That said, rest assured the Neo4j documentation states that, unless configured to do so, Neo4j will not respond to external requests (i.e. not from your localhost). That said, the documentation also says this may make you vulnerable to a number of known attacks (e.g. cross-site scripting).*\n",
    "\n",
    "### Helpful Installation Hints\n",
    "\n",
    "#### If You Previously Installed Neo4j and Forgot Your Username/Password...\n",
    "\n",
    "If you installed Neo4j using Homebrew previously and forgot your password, here's a reset method that may or may not work (admittedly, I haven't quite sorted out the intricacies of this methods' behavior, but it seems to work sometimes and not do any harm...): Navigate to the location of Neo4j's authentication file (i.e. ```cd /usr/local/Cellar/neo4j/VERSION/libexec/data/dbms/```, where ```VERSION``` is the version that was installed). Next, remove the authentication file with ``` rm auth```. Restart Neo4j (it should generate a fresh auth file when you do this) and then go back through the steps to setup your authentication. While this method was tested on a Homebrew installation, if you can find the root of your Neo4j installation, from there you should be able to access ```data/dbms/``` and perform ```rm auth``` or similar.*\n",
    "\n",
    "\n",
    "# Data Access\n",
    "\n",
    "We've placed the data for this tutorial in a folder on the OHSU Church server.\n",
    "\n",
    "### Disease Module Detection DREAM Challenge Data\n",
    "\n",
    "* Open up your preferred terminal app\n",
    "* If you haven't already cloned this repository to your local machine, go ahead and do that now\n",
    "    * To see how to do this, see the README.md of the Github repository\n",
    "* With the repository cloned, cd to its location.\n",
    "* Pull the data from Church: \n",
    "```\n",
    "scp -r username@church.ohsu.edu:~/../cordierb/neo4j-tutorial/data .\n",
    "```\n",
    "\n",
    "**Note:** *If you're unfamiliar with the scp command, in brief, it allows you to transfer files and directories between machines (usually your local machine and a server). The trailing '.' in the command will pull the data to your current directory – if you're not already in the repository's directory, you can specify an absolute path in place of the '.' (e.g. ~/Desktop/neo4j-tutorial)*"
   ]
  },
  {
   "cell_type": "code",
   "execution_count": null,
   "metadata": {
    "collapsed": true
   },
   "outputs": [],
   "source": []
  },
  {
   "cell_type": "markdown",
   "metadata": {},
   "source": [
    "# The Basics (Programmatically)\n",
    "\n",
    "### Creating Nodes\n",
    "\n",
    "\n",
    "\n",
    "### Creating Edges Between Nodes\n",
    "\n",
    "\n",
    "\n",
    "### Writing a Query\n",
    "\n",
    "\n"
   ]
  },
  {
   "cell_type": "markdown",
   "metadata": {},
   "source": [
    "# Working With The Dream Data\n",
    "\n",
    "### Load It Up"
   ]
  },
  {
   "cell_type": "code",
   "execution_count": 1,
   "metadata": {
    "collapsed": false
   },
   "outputs": [
    {
     "name": "stdout",
     "output_type": "stream",
     "text": [
      "<_io.TextIOWrapper name='data/subchallenge1/1_ppi_anonym_v2.txt' mode='r' encoding='UTF-8'>\n"
     ]
    }
   ],
   "source": [
    "# Import Sample of Dream Data\n",
    "import neo4jrestclient as Neo4j\n",
    "\n",
    "if __name__ == \"__main__\":\n",
    "    from neo4jrestclient.client import GraphDatabase\n",
    "    # Connect - Note default username / password is supposed to be neo4j / neo4j\n",
    "    gdb = GraphDatabase(\"http://localhost:7474/db/data/\", username = \"neo4j\", password = \"neo4j\")\n",
    "    with open(\"data/subchallenge1/1_ppi_anonym_v2.txt\") as data:\n",
    "        print(data)\n",
    "#         for line in data:\n",
    "#             print(line)\n",
    "        pass\n",
    "        \n",
    "else:\n",
    "    pass"
   ]
  },
  {
   "cell_type": "markdown",
   "metadata": {
    "collapsed": true
   },
   "source": [
    "### Module Detection"
   ]
  },
  {
   "cell_type": "code",
   "execution_count": null,
   "metadata": {
    "collapsed": true
   },
   "outputs": [],
   "source": []
  }
 ],
 "metadata": {
  "kernelspec": {
   "display_name": "Python 3",
   "language": "python",
   "name": "python3"
  },
  "language_info": {
   "codemirror_mode": {
    "name": "ipython",
    "version": 3
   },
   "file_extension": ".py",
   "mimetype": "text/x-python",
   "name": "python",
   "nbconvert_exporter": "python",
   "pygments_lexer": "ipython3",
   "version": "3.5.1"
  }
 },
 "nbformat": 4,
 "nbformat_minor": 0
}
