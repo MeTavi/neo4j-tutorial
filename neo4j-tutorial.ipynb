{
 "cells": [
  {
   "cell_type": "markdown",
   "metadata": {},
   "source": [
    "# Index\n",
    "\n",
    "* [Introduction](#Introduction)\n",
    "    * Neo4j & Python\n",
    "    * A Note on Python Versions\n",
    "* [Setup](#Setup) \n",
    "    * Install Neo4j\n",
    "    * Setup Database Authentication\n",
    "    * Installing Python to Neo4j Middleware\n",
    "* [Cypher Basics – Neo4j Driver Middleware](#Cypher-Basics-–-Neo4j-Driver-Middleware)\n",
    "    * Connecting to Neo4j & Creating a Session\n",
    "    * The Cypher Query Language\n",
    "* [API Based Programmatic Access – Py2Neo Middleware](#API-Based-Programmatic-Access-–-Py2Neo-Middleware)\n",
    "    * Basic Programmatic API Example\n",
    "    * Py2Neo\n",
    "* [Common Neo4j Issues & Their Solutions](#Common-Neo4j-Issues-&-Their-Solutions)\n",
    "    * Authentication Trouble\n",
    "    * If You Previously Installed Neo4j and Forgot Your Username/Password\n",
    "    * Port Bind Exception\n",
    "    * Server Certificate Does Not Match Known Certificate for 'localhost'\n",
    "    * General SSL Engine Problem\n",
    "* [DREAM Data Access](#DREAM-Data-Access)\n",
    "    * Just a Subset Please\n",
    "    * Full Disease Module Detection DREAM Challenge Data   \n",
    "* [Exploring The DREAM Data With NetworkX](#Exploring-The-DREAM-Data-With-NetworkX)\n",
    "    * Importing The DREAM Data\n",
    "    * Generating The Network\n",
    "    * Plotting the Network\n",
    "    * Plotting the Network Degree Distribution\n",
    "    * Plotting the Weighted Network Degree Distribution\n",
    "    * Centrality\n",
    "    * But Modules?"
   ]
  },
  {
   "cell_type": "markdown",
   "metadata": {},
   "source": [
    "# Introduction\n",
    "\n",
    "This tutorial is written for people with a general technical background, specifically a basic knowledge of databases, working in the terminal, and a good understanding of at least one computer language. It was written with Unix operating systems in mind, so while we discuss installation steps for Windows in brief and have made an effort to support it on a basic level, some of the code (i.e. most if not all the terminal commands) and file locations may differ. \n",
    "\n",
    "So, what can this tutorial do for you?\n",
    "* Help you get a Neo4j database up and running quickly on your local machine\n",
    "* Give you a quick guided tour of Neo4j & Cypher to see how they work together\n",
    "* Expose you to two different flavors of Neo4j to Python middleware\n",
    "* Help you perform a preliminary analysis on a subset of data from the [Disease Module Identification DREAM Challenge](https://www.synapse.org/#!Synapse:syn6156761/wiki/400645)\n",
    "\n",
    "That said, if you are already well-versed in Neo4j and feel comfortable with Cypher feel free to [grab the DREAM data](#Data-Access) and skip ahead to the second part of the tutorial. Also, don't forget to [install NetworkX](#Installing-Python-to-Neo4j-Middleware-&-NetworkX) for the analysis portion. We're excited to see what analyses people may run now and in the future. \n",
    "\n",
    "And of course, if you run into any issues, give a shout to either Ben, Eric, or Ian and we'll come lend a hand. Finally, we hope you find this a fun and approachable way to getting started with Neo4j. Happy keyboard mashing!\n",
    "\n",
    "### A Note on Python Versions"
   ]
  },
  {
   "cell_type": "code",
   "execution_count": 1,
   "metadata": {
    "collapsed": false
   },
   "outputs": [
    {
     "name": "stdout",
     "output_type": "stream",
     "text": [
      "This Notebook is Running on Python Version: 3.5.2\n"
     ]
    }
   ],
   "source": [
    "import sys\n",
    "vinfo = sys.version_info\n",
    "version = \"%d.%d.%d\" % (vinfo.major, vinfo.minor, vinfo.micro)\n",
    "try:\n",
    "    eval(\"print(\\\"This Notebook is Running on Python Version: %s\\\" % version)\")\n",
    "except:\n",
    "    eval(\"print \\\"This Notebook is Running on Python Version: %s\\\" % version\")"
   ]
  },
  {
   "cell_type": "markdown",
   "metadata": {},
   "source": [
    "This tutorial was written using Python 3.5, so if you only have Python 2.x, you may find some things are different. While there are several (very small) differences between the two versions of the language, the ones that will be of interest for this tutorial relate to the print statement / function and Python's package manager Pip:\n",
    "\n",
    " Python 2.x         | Python 3.x        \n",
    " ------------------ | :------------------:\n",
    " `print \"oink\"`     | `print(\"oink\")`   \n",
    " `pip install woof` | `pip3 install woof`\n",
    " \n",
    " **<span style=\"color: red;\">Caveat:</span>** *It is possible that if you only have a Python3 installation, you will not need to use `pip3` in place of `pip`.*"
   ]
  },
  {
   "cell_type": "markdown",
   "metadata": {},
   "source": [
    "# Setup\n",
    "\n",
    "### Install Neo4j\n",
    "\n",
    "We've tested two ways to setup Neo4j on Mac OS X and one on Microsoft Windows that you can choose from below. \n",
    "\n",
    "#### Homebrew – Mac OS X\n",
    "\n",
    "There are a number of ways you can install Neo4j. If you have homebrew, type the following command into your terminal:\n",
    "```\n",
    "brew install neo4j\n",
    "```\n",
    "Be sure to take note of what version is installed (there's a chance you may need this in a moment); for me it was 3.0.3, but at the time of writing the latest is 3.0.6. \n",
    "\n",
    "#### Desktop Application – Mac OS X & Microsoft Windows\n",
    "\n",
    "* Go to the [Neo4j website](https://neo4j.com)\n",
    "* Click the big red Download button\n",
    "* Click the green Download Community Edition button\n",
    "* Select the appropriate download and run through the installation steps required by your OS\n",
    "\n",
    "### Setup Database Authentication\n",
    "\n",
    "It's recommended you setup a username/password for Neo4j (that said, read the caveat below before you do.) To do this:\n",
    "\n",
    "* Go to your terminal application and open up a new window or pane, and type: \n",
    "```\n",
    "neo4j console\n",
    "```\n",
    "* Next, in your browser navigate to [`http://localhost:7474`](http:////localhost:7474)\n",
    "* You should be prompted to set a new username/password. Of course, make sure it's something you'll remember; resetting your user/pass in Neo4j tends to be a bit of terminal hackery and is poorly documented. If you're having trouble, you can skip down to the [Authentication's No Fun :(](#Authentication's-No-Fun-:-() section to disable authentication; if you already setup a user/pass and forgot it, check out [Some Helpful Installation Hints](#Some-Helpful-Installation-Hints).\n",
    "\n",
    "**<span style=\"color: green;\">Tip:</span>** *Once you've set this up, you may want to take a moment and explore the Neo4j web application. It's a cute way to play around with some toy databases, check out some nifty network visualizations, send some queries, and get a feel for the syntax and functionality of the Cypher query language. If you came here for the DREAM data and are thinking, 'Meh, I'm not into toys and cute stuff, I'm a hardcore bioinformaticist.', scroll down to the [DREAM Data Access](#DREAM-Data-Access) portion for some much-less-cute (but really it's not bad at all) bioinformatics data.*\n",
    "\n",
    "**<span style=\"color: red;\">Caveat:</span>** *The user/pass you set will need to be hardcoded into the Python code of this tutorial early on, so if you feel more comfortable going with the default user/pass, follow the instructions above up to setting your user/pass.*\n",
    "\n",
    "### Installing Python to Neo4j Middleware & NetworkX\n",
    "\n",
    "Python does not natively support interacting with Neo4j and requires middleware to do so. There are several available each with their own flavor, one of which is officially sponsored by Neo4j. We'll be using two Python to Neo4j middlewares in this tutorial. \n",
    "\n",
    "The first is the [official Neo4j middleware](https://neo4j.com/developer/python/), which has been designed to expose the Cypher query language in the Python environment and facilitate connecting to any Neo4j instance.\n",
    "\n",
    "The second middleware is the [unofficial Py2Neo](http://py2neo.org/v3/). The design of this middleware is different; rather than use the Cypher query language (i.e. bumble through learning a language with a syntax that may be quite foreign), Py2Neo provides us with a Pythonic API to access and query the database with almost no knowledge of the Cypher language required. Similar to the official Neo4j, it too allows for easy connecting to any Neo4j instance. \n",
    "\n",
    "To install the two middlewares, paste the commands below into your terminal:\n",
    "```\n",
    "pip3 install neo4j-driver\n",
    "pip3 install py2neo\n",
    "```\n",
    "\n",
    "Finally, if you plan on exploring the [DREAM Disease Module Identification Challenge](https://www.synapse.org/#!Synapse:syn6156761) data, a great package to work with it is [NetworkX](https://networkx.github.io). Also, we'll be using [Matplotlib](http://matplotlib.org) too. If you don't have them already, paste the commands below into you terminal to install them:\n",
    "```\n",
    "pip3 install networkx\n",
    "pip3 install matplotlib\n",
    "```"
   ]
  },
  {
   "cell_type": "markdown",
   "metadata": {},
   "source": [
    "# Cypher Basics – Neo4j Driver Middleware\n",
    "\n",
    "### Connecting to Neo4j & Creating a Session"
   ]
  },
  {
   "cell_type": "code",
   "execution_count": 2,
   "metadata": {
    "collapsed": false
   },
   "outputs": [],
   "source": [
    "def printBreak():\n",
    "    print(\"\\n_________________________________________________________\\n\")\n",
    "\n",
    "# Import Middleware - Note: There is no neo4j.v2, etc.\n",
    "from neo4j.v1 import GraphDatabase\n",
    "from neo4j.v1 import basic_auth     as Authentication\n",
    "\n",
    "# Connect to Neo4j\n",
    "gdb = GraphDatabase.driver(\"bolt://localhost\",  auth = Authentication(\"neo4j\", \"test\"))\n",
    "\n",
    "# Create a Session\n",
    "session = gdb.session()"
   ]
  },
  {
   "cell_type": "markdown",
   "metadata": {},
   "source": [
    "**<span style=\"color: green;\">Tip:</span>** *You may have noticed above that we're not connecting to the database with a common protocol (e.g. http, https, ssh). While Neo4j can make use of http and https, the developers of the software have also written an optimized protocol known as bolt.*\n",
    "\n",
    "### The Cypher Query Language\n",
    "\n",
    "You should now have access to your Neo4j instance through the active session. At this point, if you haven't already, it's worth running through some basic Cypher queries to get a feel for the language, what's happening under the hood, and how Neo4j thinks about data. \n",
    "\n",
    "As mentioned earlier, the Neo4j official driver (middleware) for Python simply exposes the Cypher query language through the `session.run()` method. There are benefits and drawbacks to this:\n",
    "\n",
    "**<span style=\"color: green;\">Some benefits:</span>**\n",
    "* You get the full flexibility of the Cypher query language\n",
    "* For running queries, you need one method only\n",
    "* The driver provides access to database settings and configurations that other middlewares may not expose\n",
    "* Officially supported & well documented\n",
    "\n",
    "**<span style=\"color: red;\">Some drawbacks:</span>**\n",
    "* Requires a working knowledge of the Cypher query language\n",
    "* Less Pythonic queries by default\n",
    "* May require more hardcoding or the creation of a custom set of Python to Cypher functions\n",
    "\n",
    "For those who are comfortable programmin in Python, the ability of the official driver to run Cypher queries directly makes it a great starting point. \n",
    "\n",
    "####  Deleting Nodes & Edges\n",
    "\n",
    "Before jumping in, it's worth laying out how to delete nodes and edges so that you can hit the reset button if any queries aren't working as expected. "
   ]
  },
  {
   "cell_type": "code",
   "execution_count": 3,
   "metadata": {
    "collapsed": false
   },
   "outputs": [
    {
     "data": {
      "text/plain": [
       "<neo4j.v1.session.StatementResult at 0x105718e10>"
      ]
     },
     "execution_count": 3,
     "metadata": {},
     "output_type": "execute_result"
    }
   ],
   "source": [
    "# # To Delete All Relationships (Must Be Done Before Deleting Nodes)\n",
    "# session.run(\"START n = node(*) MATCH n-[r]-() DELETE r\")\n",
    "\n",
    "# # To Delete All Nodes\n",
    "# session.run(\"START n = node(*) MATCH n DELETE n\")\n",
    "\n",
    "# To Delete All Nodes & Relationships Simultaneously\n",
    "session.run(\"MATCH (n) OPTIONAL MATCH (n)-[r]-() DELETE n, r\")"
   ]
  },
  {
   "cell_type": "markdown",
   "metadata": {},
   "source": [
    "#### Creating & Querying Nodes\n",
    "\n",
    "Below we'll create some nodes along with some associated properties. We'll then query these nodes and use the result of the query to construct a poem about about King Arthurs court. If you want to add your own unique flavor to the powem, try doing some of the following:\n",
    "\n",
    "* Create some additional nodes to query\n",
    "* Update some of the node properties\n",
    "* Modify the query to return different nodes or properties\n",
    "* Modify the logic that prints the poem"
   ]
  },
  {
   "cell_type": "code",
   "execution_count": 4,
   "metadata": {
    "collapsed": false
   },
   "outputs": [
    {
     "name": "stdout",
     "output_type": "stream",
     "text": [
      "A Legendary (kinda) Haiku of Yore\n",
      "\n",
      "Artorius Pendragon was a legendary king that loved spam\n",
      "Gwythyr ap Greidawl was a legendary queen that loved spam\n",
      "Little Lancelot du Lac was a legendary knight that had a very testy relationship with spam\n",
      "Myrddin Wyllt was a legendary wizard that loved spam\n"
     ]
    }
   ],
   "source": [
    "# Create Five Nodes\n",
    "createNodes = \"CREATE \\\n",
    "(Arthur:    Person {fullName: 'Artorius Pendragon',   title: 'King',    age: 37,  influence: 1.00, lovesSpam: true}), \\\n",
    "(Guinevere: Person {fullName: 'Gwythyr ap Greidawl',  title: 'Queen',   age: 32,  influence: 0.75, lovesSpam: true}), \\\n",
    "(Lancelot:  Person {fullName: 'Lancelot du Lac',      title: 'Knight',  age: 29,  influence: 0.25, lovesSpam: false}), \\\n",
    "(Merlin:    Person {fullName: 'Myrddin Wyllt',        title: 'Wizard',  age: 68,  influence: 0.50, lovesSpam: true})\"\n",
    "session.run(createNodes)\n",
    "\n",
    "# Query The Four Generated Nodes\n",
    "matchNodes = \"MATCH (Person) RETURN Person.fullName AS name, Person.title AS title, Person.lovesSpam AS spam\"\n",
    "records = session.run(matchNodes)\n",
    "\n",
    "# Print Results\n",
    "print(\"A Legendary (kinda) Haiku of Yore\\n\")\n",
    "for record in records:\n",
    "    if record[\"spam\"]:\n",
    "        print(\"%s was a legendary %s that loved spam\" % (record[\"name\"], record[\"title\"].lower()))\n",
    "    else:\n",
    "        print(\"Little %s was a legendary %s that had a very testy relationship with spam\" % (record[\"name\"], record[\"title\"].lower()))"
   ]
  },
  {
   "cell_type": "markdown",
   "metadata": {},
   "source": [
    "#### Creating & Querying Edges"
   ]
  },
  {
   "cell_type": "code",
   "execution_count": 5,
   "metadata": {
    "collapsed": false
   },
   "outputs": [
    {
     "name": "stdout",
     "output_type": "stream",
     "text": [
      "Record Dictionary:\n",
      "\n",
      "\tKey: \"p\", Value: <Path start=1832 end=1830 size=1>\n",
      "\tKey: \"r\", Value: <Relationship id=410 start=1832 end=1830 type='SUBJECT_TO' properties={}>\n",
      "\tKey: \"a\", Value: <Node id=1832 labels=set() properties={}>\n",
      "\tKey: \"b\", Value: <Node id=1830 labels=set() properties={}> \n",
      "\n"
     ]
    }
   ],
   "source": [
    "# Set This to a Relationship of Interest\n",
    "queryRelationship = \"SUBJECT_TO\"\n",
    "\n",
    "# Generate Some Edges - Note Arrows Can go Both Directions (see ADVISEE_TO relationship)\n",
    "createEdges = \"CREATE \\\n",
    "(Arthur)-[:HUSBAND_TO]->(Guinevere), \\\n",
    "(Arthur)-[:KING_TO]->(Lancelot), \\\n",
    "(Arthur)-[:KING_TO]->(Merlin), \\\n",
    "(Guinevere)-[:WIFE_TO]->(Arthur), \\\n",
    "(Guinevere)-[:FRIEND_TO]->(Lancelot), \\\n",
    "(Guinevere)-[:FRIEND_TO]->(Merlin), \\\n",
    "(Lancelot)-[:SUBJECT_TO]->(Arthur), \\\n",
    "(Lancelot)-[:FRIEND_TO]->(Guinevere), \\\n",
    "(Merlin)-[:ADVISOR_TO]->(Arthur), \\\n",
    "(Merlin)<-[:ADVISEE_TO]-(Arthur), \\\n",
    "(Merlin)-[:FRIEND_TO]->(Guinevere)\"\n",
    "\n",
    "session.run(createEdges)\n",
    "\n",
    "# Query Path Between Nodes & Edge\n",
    "queryEdges = \"MATCH p = (a)-[r:\" + queryRelationship + \"]->(b) return p, r, a, b\"\n",
    "records = session.run(queryEdges)\n",
    "\n",
    "# Print Results\n",
    "print(\"Record Dictionary:\\n\")\n",
    "for record in records:\n",
    "    print(\"\\n\".join(\"\\tKey: \\\"%s\\\", Value: %s\" % (key, record[key]) for key in record.keys()), \"\\n\")"
   ]
  },
  {
   "cell_type": "markdown",
   "metadata": {},
   "source": [
    "#### Querying the Graph\n",
    "\n",
    "If you're interested in learning more about Cypher and querying the Neo4j graph, it's worth cracking open the [Cypher documentation](http://neo4j.com/docs/2.2.8/cypher-query-lang.html) and writing some queries to answer some questions. For the graph above, some basic questions we could ask are:\n",
    "\n",
    "* Who is the oldest character?\n",
    "* Who loves spam?\n",
    "* Who is the least influential?\n",
    "* Who is a wizard?\n",
    "\n",
    "But things could be much more interesting (particularly with real data!) For example, is there an association between a Person's influence and love of Spam? A question for the ages to be sure. There are numerous resources online that describe basic Cypher queries, here's a small selection we've found useful:\n",
    "\n",
    "* [A Cypher Query Cheatsheet](https://gist.github.com/DaniSancas/1d5265fc159a95ff457b940fc5046887)\n",
    "* [A Great DZone Blog Post Comparing Cypher to SQL](https://dzone.com/articles/rdbms-graphs-sql-vs-cypher-query-languages)\n",
    "* [Some Nifty Neo4j & Cypher YouTube Tutorials](https://www.youtube.com/watch?v=UJ81zWBMguc&list=PLAWPhrZnH759YHRieMBzsQRvr56JcYx5l)"
   ]
  },
  {
   "cell_type": "markdown",
   "metadata": {},
   "source": [
    "### Connecting to Neo4j with the Py2Neo Middleware"
   ]
  },
  {
   "cell_type": "markdown",
   "metadata": {},
   "source": [
    "# API Based Programmatic Access – Py2Neo Middleware\n",
    "\n",
    "As mentioned earlier, sometimes you want to skip learning a new language like Cypher. The Py2Neo middleware, for the most part, allows for this convenience, however, as with the official driver there are benefits & drawbacks (below). Next, we'll run through a similar set of queries to demonstrate some very basic Py2Neo functionalities.\n",
    "\n",
    "**<span style=\"color: green;\">Some benefits:</span>**\n",
    "* You get the full flexibility of the Cypher query language (yes, with Py2Neo, you can still use it if required!)\n",
    "* The syntax is largely Pythonic, minimizing language context switching while programming\n",
    "* The driver provides access to database settings and configurations that other middlewares may not expose\n",
    "* Less hardcoding & more sensible use of variables often means less coding\n",
    "\n",
    "**<span style=\"color: red;\">Some drawbacks:</span>**\n",
    "* Requires learning new API methods – you'll still likely have to read documentation \n",
    "* Overly abstracted APIs can obscure underlying logic (Py2Neo avoids this)\n",
    "* Abstracted database querying logic can lead to inefficient code\n",
    "\n",
    "### Basic Programatic API Example\n",
    "Before diving into Py2Neo, it's worth examining what is meant by 'API-Based Programmatic Access'. In short, the idea here is to use Python instead of Cypher when working with Neo4j. To do this, the API provides what is often termed an Object Relational Mapping (ORM) layer. In Py2Neo, this layer is called the Object Graph Mapping (OGM) layer. \n",
    "\n",
    "The implementation of a sensible ORM requires a careful balancing of abstraction, functionality, and intuitiveness. Because most software interfacing with a database performs only the most basic Create-Read-Update-Destroy (CRUD) operations, many middlewares have a tendency to emphasize intuitiveness and abstraction for these basic functionalities. From there, more complex operations may be left to a generic 'run this \\*complex\\* query using the native DB query language function'. For the Neo4j driver used above, this function is `session.run()`.\n",
    "\n",
    "An example of what an ORM for a Neo4j API might look like is below. Note the function calls...they're Cypher free! Of course, it goes without saying that the example below is merely intended to be illustrative and would need some serious work to be made practical."
   ]
  },
  {
   "cell_type": "code",
   "execution_count": 6,
   "metadata": {
    "collapsed": false
   },
   "outputs": [
    {
     "name": "stdout",
     "output_type": "stream",
     "text": [
      "Function call:\n",
      "createNode('Person', {\"title\": 'king', \"fullName\": 'Artorius Pendragon', \"age\": 37, \"influence\": 1.00, \"lovesSpam\": True})\n",
      "\n",
      "Query:\n",
      " CREATE (n:Person {fullName: 'Artorius Pendragon', lovesSpam: 'True', influence: '1.0', age: '37', title: 'king'})\n",
      "\n",
      "Result:\n",
      " <neo4j.v1.session.StatementResult object at 0x10575a278>\n",
      "\n",
      "_________________________________________________________\n",
      "\n",
      "Function call:\n",
      "createEdge('Merlin', \"ADVISOR_TO\", \"Arthur\")\n",
      "\n",
      "Query:\n",
      " CREATE (Merlin)-[:ADVISOR_TO]->(Arthur)\n",
      "\n",
      "Result:\n",
      " <neo4j.v1.session.StatementResult object at 0x10575a240>\n"
     ]
    }
   ],
   "source": [
    "# Create a Node\n",
    "def createNode (id, attributes, session = session):\n",
    "    queryAttr = \", \".join([\"%s: '%s'\" % (key, value) for key, value in attributes.items()])\n",
    "    query = \"CREATE (n:%s {%s})\" % (id, queryAttr)\n",
    "    # Run Formatted Query Using Generic Run Function\n",
    "    result = session.run(query)\n",
    "    return result, query\n",
    "\n",
    "# Call the createNode Method\n",
    "result, query = createNode('Person', {\"title\": 'king', \"fullName\": 'Artorius Pendragon', \"age\": 37, \"influence\": 1.00, \"lovesSpam\": True})\n",
    "print(\"Function call:\\ncreateNode('Person', {\\\"title\\\": 'king', \\\"fullName\\\": 'Artorius Pendragon', \\\"age\\\": 37, \\\"influence\\\": 1.00, \\\"lovesSpam\\\": True})\")\n",
    "print(\"\\nQuery:\\n\", query)\n",
    "print(\"\\nResult:\\n\", result)\n",
    "printBreak()\n",
    "\n",
    "# Create an Edge\n",
    "def createEdge (nodeA, relationship, nodeB, session = session):\n",
    "    query = \"CREATE (%s)-[:%s]->(%s)\" % (nodeA, relationship, nodeB)\n",
    "    # Run Formatted Query Using Generic Run Function\n",
    "    result = session.run(query)\n",
    "    return result, query\n",
    "\n",
    "# Call the createEdge Method\n",
    "result, query = createEdge('Merlin', \"ADVISOR_TO\", \"Arthur\")\n",
    "\n",
    "print(\"Function call:\\ncreateEdge('Merlin', \\\"ADVISOR_TO\\\", \\\"Arthur\\\")\")\n",
    "print(\"\\nQuery:\\n\", query)\n",
    "print(\"\\nResult:\\n\", result)"
   ]
  },
  {
   "cell_type": "code",
   "execution_count": 7,
   "metadata": {
    "collapsed": false
   },
   "outputs": [
    {
     "name": "stdout",
     "output_type": "stream",
     "text": [
      "\n",
      "Database Cleared in Preparation for Next Section\n"
     ]
    }
   ],
   "source": [
    "# Delete Our Previous Database Entries (Nodes & Relationships)\n",
    "session.run(\"MATCH (n) OPTIONAL MATCH (n)-[r]-() DELETE n, r\")\n",
    "print(\"\\nDatabase Cleared in Preparation for Next Section\")\n",
    "\n",
    "# Import the Py2Neo Middleware\n",
    "from py2neo import Node, Relationship, Graph, NodeSelector\n",
    "\n",
    "# Set Some References\n",
    "database = \"http://localhost:7474/db/data/\"\n",
    "username = \"neo4j\"\n",
    "password = \"test\"\n",
    "\n",
    "# Connect to Neo4j with Py2Neo - Note the default username/password is neo4j/neo4j\n",
    "graph = Graph(database, user = username, password = password)"
   ]
  },
  {
   "cell_type": "markdown",
   "metadata": {},
   "source": [
    "### Py2Neo\n",
    "\n",
    "#### Creating & Querying Nodes\n",
    "\n",
    "Ahh the life of a computational poet...so rich, so...systematic. Below another poem is generated, along with a set of historical facts. These facts are queried using Py2Neo's `.where()` function, which allows us to use conditional logic. An alternative to `.where()`, you can also insert simple matching into the `select` function directly. For example:\n",
    "```\n",
    "nodes = selector.select(\"Person\", \"name\" = 'Artorius Pendragon')\n",
    "```"
   ]
  },
  {
   "cell_type": "code",
   "execution_count": 8,
   "metadata": {
    "collapsed": false
   },
   "outputs": [
    {
     "name": "stdout",
     "output_type": "stream",
     "text": [
      "Another Legendary (kinda) Haiku of Yore\n",
      "\n",
      "Artorius Pendragon was a legendary king of spam\n",
      "Gwythyr ap Greidawl was a legendary queen of spam\n",
      "Little Lancelot du Lac was a legendary knight of the spam rebel alliance\n",
      "Myrddin Wyllt was a legendary wizard of spam\n",
      "\n",
      "_________________________________________________________\n",
      "\n",
      "Let these highly accurate not at all fabricated historical facts be known...\n",
      "\n",
      "Artorius Pendragon was an influential King who survived on a diet highly enriched with spam.\n",
      "Gwythyr ap Greidawl was an influential Queen who survived on a diet highly enriched with spam.\n"
     ]
    }
   ],
   "source": [
    "# List of Legendary Character Dictionaries\n",
    "characterProps = [\n",
    "    {\"fullName\": 'Artorius Pendragon',   \"title\": 'King',    \"age\": 37,  \"influence\": 1.00, \"lovesSpam\": True},\n",
    "    {\"fullName\": 'Gwythyr ap Greidawl',  \"title\": 'Queen',   \"age\": 32,  \"influence\": 0.75, \"lovesSpam\": True},\n",
    "    {\"fullName\": 'Lancelot du Lac',      \"title\": 'Knight',  \"age\": 29,  \"influence\": 0.25, \"lovesSpam\": False},\n",
    "    {\"fullName\": 'Myrddin Wyllt',        \"title\": 'Wizard',  \"age\": 68,  \"influence\": 0.50, \"lovesSpam\": True}\n",
    "]\n",
    "\n",
    "#\n",
    "# Generate Graph Nodes\n",
    "#\n",
    "\n",
    "for properties in characterProps:\n",
    "    # If Your Unfamiliar With The **dictionary Syntax, It Essentially Unpacks The Dictionary as Keyword Arguments\n",
    "    node = Node(\"Person\", **properties)\n",
    "    n = graph.create(node)\n",
    "    \n",
    "#\n",
    "# Selecting Nodes\n",
    "#\n",
    "\n",
    "# Initialize the NodeSelector Class on Our Graph\n",
    "selector = NodeSelector(graph)\n",
    "\n",
    "# Select 'Person' Nodes\n",
    "nodes = selector.select(\"Person\")\n",
    "\n",
    "# Print Another Silly Haiku\n",
    "print(\"Another Legendary (kinda) Haiku of Yore\\n\")\n",
    "for node in nodes:\n",
    "    # To Access Node Properties, we Coerce The Node to a Dictionary\n",
    "    properties = dict(node)\n",
    "    if properties[\"lovesSpam\"]:\n",
    "        print(\"%s was a legendary %s of spam\" % (properties[\"fullName\"], properties[\"title\"].lower()))\n",
    "    else:\n",
    "        print(\"Little %s was a legendary %s of the spam rebel alliance\" % (properties[\"fullName\"], properties[\"title\"].lower()))\n",
    "printBreak()\n",
    "\n",
    "#\n",
    "# The where() Function\n",
    "#\n",
    "\n",
    "# We Can Also Select by Property or Conditionally Using the Where Function\n",
    "print(\"Let these highly accurate not at all fabricated historical facts be known...\\n\")\n",
    "# The _.property Syntax is Cypher For 'anyNode.property', Similar to a Wildcard\n",
    "nodes = selector.select(\"Person\").where(\"_.influence > 0.72\", \"_.lovesSpam = True\")\n",
    "for node in nodes:\n",
    "    properties = dict(node)\n",
    "    print(\"%s was an influential %s who survived on a diet highly enriched with spam.\" % (properties[\"fullName\"], properties[\"title\"]))\n",
    "    "
   ]
  },
  {
   "cell_type": "markdown",
   "metadata": {},
   "source": [
    "#### Creating & Querying Edges"
   ]
  },
  {
   "cell_type": "code",
   "execution_count": 9,
   "metadata": {
    "collapsed": false
   },
   "outputs": [
    {
     "name": "stdout",
     "output_type": "stream",
     "text": [
      "Relationships:\n",
      "\n",
      "(dc51de0)-[:FRIEND_TO]->(d01b1fa)\n",
      "(c85cd7d)-[:FRIEND_TO]->(a9114e8)\n",
      "\n",
      "_________________________________________________________\n",
      "\n",
      "\n",
      "Say whaaa..? Let's Make This more legible...\n",
      "\n",
      "Gwythyr ap Greidawl was FRIEND_TO Lancelot du Lac\n",
      "Lancelot du Lac was FRIEND_TO Gwythyr ap Greidawl\n",
      "\n",
      "_________________________________________________________\n",
      "\n",
      "\n",
      "But those names are soooo fancy & the relationships seem angry...\n",
      "\n",
      "Guinevere was friends with Lancelot\n",
      "Lancelot was friends with Guinevere\n",
      "\n",
      "...Merlin and Lancelot were not friends\n",
      "\n",
      "_________________________________________________________\n",
      "\n"
     ]
    }
   ],
   "source": [
    "# Set This to a Relationship of Interest\n",
    "queryRelationship = \"FRIEND_TO\"\n",
    "\n",
    "# A Relationship Map\n",
    "relationshipMap = {\n",
    "    \"KING_TO\"     : \"king to\",\n",
    "    \"WIFE_TO\"     : \"was the wife of\",\n",
    "    \"HUSBAND_TO\"  : \"was the husband of\",\n",
    "    \"ADVISOR_TO\"  : \"an advisor to\",\n",
    "    \"ADVISEE_TO\"  : \"advised by\",\n",
    "    \"FRIEND_TO\"   : \"friends with\",\n",
    "    \"SUBJECT_TO\"  : \"a subject of\",\n",
    "    \"CONFIDANT_TO\": \"a confidant to\"\n",
    "}\n",
    "\n",
    "# Relationships Dictionary\n",
    "relationships = [\n",
    "    {\"a\": \"Arthur\",    \"type\": \"HUSBAND_TO\",   \"b\": \"Guinevere\", \"since\": \"575 AD\"},\n",
    "    {\"a\": \"Arthur\",    \"type\": \"KING_TO\",      \"b\": \"Lancelot\",  \"since\": \"579 AD\"},\n",
    "    {\"a\": \"Arthur\",    \"type\": \"KING_TO\",      \"b\": \"Merlin\",    \"since\": \"579 AD\"},\n",
    "    {\"a\": \"Arthur\",    \"type\": \"ADVISEE_TO\",   \"b\": \"Merlin\",    \"since\": \"564 AD\"},\n",
    "    {\"a\": \"Guinevere\", \"type\": \"WIFE_TO\",      \"b\": \"Arthur\",    \"since\": \"575 AD\"},\n",
    "    {\"a\": \"Guinevere\", \"type\": \"FRIEND_TO\",    \"b\": \"Lancelot\",  \"since\": \"581 AD\"},\n",
    "    {\"a\": \"Guinevere\", \"type\": \"CONFIDANT_TO\", \"b\": \"Merlin\",    \"since\": \"569 AD\"},\n",
    "    {\"a\": \"Lancelot\",  \"type\": \"SUBJECT_TO\",   \"b\": \"Arthur\",    \"since\": \"579 AD\"},\n",
    "    {\"a\": \"Lancelot\",  \"type\": \"FRIEND_TO\",    \"b\": \"Guinevere\", \"since\": \"581 AD\"},\n",
    "    {\"a\": \"Merlin\",    \"type\": \"ADVISOR_TO\",   \"b\": \"Arthur\",    \"since\": \"564 AD\"},\n",
    "    {\"a\": \"Merlin\",    \"type\": \"CONFIDANT_TO\", \"b\": \"Guinevere\", \"since\": \"569 AD\"}\n",
    "]\n",
    "\n",
    "# Initialize Selector\n",
    "selector = NodeSelector(graph)\n",
    "\n",
    "#\n",
    "# Generating Relationships\n",
    "#\n",
    "\n",
    "# Generating a Name Map – Because We Didn't Give Short Names to Each Node\n",
    "nameMap = {\n",
    "    \"Arthur\"      : 'Artorius Pendragon',\n",
    "    \"Guinevere\"   : 'Gwythyr ap Greidawl',\n",
    "    \"Lancelot\"    : 'Lancelot du Lac',\n",
    "    \"Merlin\"      : 'Myrddin Wyllt'\n",
    "}\n",
    "\n",
    "for relationship in relationships:\n",
    "    # Retrieve Nodes From Graph Using Map\n",
    "    nodeA = list(selector.select(\"Person\", fullName = nameMap[relationship[\"a\"]]))\n",
    "    nodeB = list(selector.select(\"Person\", fullName = nameMap[relationship[\"b\"]]))\n",
    "    # Generate Relationship Between Nodes\n",
    "    result = graph.create(Relationship(nodeA, relationship[\"type\"], nodeB))\n",
    "\n",
    "# Query Relationships (and Coerce Generator to List so We Can Call it Repeatedly)\n",
    "relationships = list(graph.match(rel_type = queryRelationship))\n",
    "\n",
    "# Print Relationship\n",
    "print(\"Relationships:\\n\")\n",
    "for relationship in relationships:\n",
    "    print(relationship)\n",
    "    \n",
    "printBreak()\n",
    "print(\"\\nSay whaaa..? Let's Make This more legible...\\n\")\n",
    "\n",
    "#\n",
    "# Let's Make it More Interpretable...\n",
    "#\n",
    "\n",
    "for relationship in relationships:\n",
    "    nodes = relationship.nodes()\n",
    "    edge = relationship.type()\n",
    "    # Assuming Each Relationship Has Only Two Nodes...\n",
    "    print(\"%s was %s %s\" % (dict(nodes[0])[\"fullName\"], edge, dict(nodes[1])[\"fullName\"]))\n",
    "\n",
    "printBreak()\n",
    "print(\"\\nBut those names are soooo fancy & the relationships seem angry...\\n\")\n",
    "\n",
    "#    \n",
    "# We're on a First Name Basis...\n",
    "#\n",
    "\n",
    "# Reverse Name Map Key-Values\n",
    "nameMap = {fullName:name for name, fullName in nameMap.items()}\n",
    "for relationship in relationships:\n",
    "    nodes = relationship.nodes()\n",
    "    edge = relationship.type()\n",
    "    # Apply Name Map to Retrieve Get Back First Names\n",
    "    print(\"%s was %s %s\" % (nameMap[dict(nodes[0])[\"fullName\"]], relationshipMap[edge], nameMap[dict(nodes[1])[\"fullName\"]]))\n",
    "print(\"\\n...Merlin and Lancelot were not friends\")\n",
    "\n",
    "printBreak()\n",
    "\n",
    "# # Delete Our Previous Database Entries (Nodes & Relationships)\n",
    "# session.run(\"MATCH (n) OPTIONAL MATCH (n)-[r]-() DELETE n, r\")\n",
    "# print(\"\\nDatabase Cleared in Preparation for Next Section\")"
   ]
  },
  {
   "cell_type": "markdown",
   "metadata": {},
   "source": [
    "It's worth noting that the relationships printed above print the IDs for each node in the relationship rather than the named IDs as we saw previously. This is because the a unique ID is automatically generated using Py2Neo. While this may make the output less legible without some massaging, it has the benefit of preventing duplicate IDs that may otherwise slip through.  "
   ]
  },
  {
   "cell_type": "markdown",
   "metadata": {},
   "source": [
    "#### Plotting the Network\n",
    "\n",
    "Let's plot the network. It's not necessary, but will be a nice way to wrap up with an overview of what we've been working with."
   ]
  },
  {
   "cell_type": "code",
   "execution_count": 10,
   "metadata": {
    "collapsed": false
   },
   "outputs": [
    {
     "data": {
      "image/png": "[encoded data removed]",
      "text/plain": [
       "<matplotlib.figure.Figure at 0x108195b70>"
      ]
     },
     "metadata": {},
     "output_type": "display_data"
    }
   ],
   "source": [
    "# Show Plots Inline\n",
    "%matplotlib inline\n",
    "\n",
    "# Import Plotting Modules\n",
    "import matplotlib\n",
    "import matplotlib.pyplot as Plot\n",
    "import networkx as Nx\n",
    "\n",
    "# Query All Relationships (and Coerce Generator to List so We Can Call it Repeatedly)\n",
    "relationships = list(graph.match())\n",
    "\n",
    "edges = []\n",
    "labels = {}\n",
    "for relationship in relationships:\n",
    "    nodes = relationship.nodes()\n",
    "    edge = relationshipMap[relationship.type()]\n",
    "    # Apply Name Map to Retrieve Get Back First Names\n",
    "    # Format: Tuple(node, node)\n",
    "    edges.append((nameMap[dict(nodes[0])[\"fullName\"]], nameMap[dict(nodes[1])[\"fullName\"]]))\n",
    "    # Generate Edge Labels (Node That This is Commented Out Because Labels Overlap One Another)\n",
    "    # labels[(nameMap[dict(nodes[0])[\"fullName\"]], nameMap[dict(nodes[1])[\"fullName\"]])] = edge\n",
    "    \n",
    "# Plot Network\n",
    "legendaryGraph = Nx.Graph()\n",
    "legendaryGraph.add_edges_from(edges)\n",
    "layout = Nx.spring_layout(legendaryGraph)\n",
    "Nx.draw(legendaryGraph, layout, alpha = 0.5, node_size = 5000, edge_cmap = Plot.cm.Greens, with_labels = False)\n",
    "Nx.draw_networkx_labels(legendaryGraph, layout, font_size = 12, font_family='sans-serif')\n",
    "# Nx.draw_networkx_edge_labels(legendaryGraph, layout, font_size = 12, font_family='sans-serif')\n",
    "Plot.axis('off')\n",
    "Plot.savefig('plots/legendary-network.pdf', bbox_inches='tight')\n",
    "Plot.show()"
   ]
  },
  {
   "cell_type": "markdown",
   "metadata": {},
   "source": [
    "This is the end of the Neo4j portion of the tutorial, so if you don't have an interest in playing with the data from the DREAM Disease Module Identification Challenge...you're done! Otherwise, continue on for a fun 'extra-curricular.' To the [DREAM data](#DREAM-Data-Access)!"
   ]
  },
  {
   "cell_type": "markdown",
   "metadata": {},
   "source": [
    "# Common Neo4j Issues & Their Solutions\n",
    "\n",
    "All solutions validated on a Mac, other operating systems may have different paths and/or commands!\n",
    "\n",
    "### Authentication Trouble\n",
    "Security through authentication is important, but we're realists and know that this is a tutorial...so if you installed with homebrew and are having trouble getting the authentication up and running quickly, you can shut off authentication. To do that, do the following:\n",
    "\n",
    "* Use your terminal to navigate to the following directory (replace `VERSION` with the version number you just wrote down):\n",
    "```\n",
    "cd ~/../../usr/local/Cellar/neo4j/VERSION/libexec/conf/\n",
    "```\n",
    "* Now in the ```conf/``` directory, open the file ```neo4j.conf``` using your preferred terminal editor (e.g. Vim, Emacs, Nano)\n",
    "* Scroll through the file until you find the following line (it should be near the top):\n",
    "```\n",
    "# dbms.security.auth_enabled=false\n",
    "```\n",
    "* Per the instructions above it, uncomment the line. It should look like this: \n",
    "```\n",
    "dbms.security.auth_enabled=false\n",
    "```\n",
    "* Save and close the file `neo4j.conf`\n",
    "* Pat your self on the back; your database is now authentication free...\n",
    "\n",
    "**<span style=\"color: green;\">Tip:</span>** *If you didn't install with Homebrew or are using a different OS (not Mac OS X), these steps should be the same but the location of the `neo4j.conf` file will be different.* \n",
    "\n",
    "**<span style=\"color: red;\">Caveat:</span>** *With great power comes great responsibility. In the interest of getting started quickly, we're offering the above instructions as an option. That said, we feel obliged to say that disabling authentication should never, ever be done in a production environment or for any database(s) hosting sensitive data. If you plan on using Neo4j outside the scope of this tutorial, be sure to setup authentication as intended (above). That said, rest assured the Neo4j documentation states that, unless configured to do so, Neo4j will not respond to external requests (i.e. not from your localhost)...although, the same documentation also states the above may make you vulnerable to a number of known attacks (e.g. cross-site scripting).*\n",
    "\n",
    "### If You Previously Installed Neo4j and Forgot Your Username/Password\n",
    "\n",
    "Resetting your Neo4j password isn't exactly intuitive. If you installed Neo4j using Homebrew previously and forgot your password, here's a reset method that *should* work (admittedly, I haven't quite sorted out the intricacies of this methods' behavior, but it has worked for me before and won't do any harm...): \n",
    "\n",
    "* Navigate to the location of Neo4j's authentication file (again, replace `VERSION` with the version number you just wrote down):\n",
    "```\n",
    "cd ~/../../usr/local/Cellar/neo4j/VERSION/libexec/data/dbms/\n",
    "```\n",
    "* Next, remove the authentication file and restart Neo4j.\n",
    "```\n",
    "rm auth\n",
    "neo4j restart\n",
    "```\n",
    "* In your browser, go to [`http://localhost:7474`](http:////localhost:7474).\n",
    "\n",
    "If it worked, you should be prompted to setup your authentication (again). \n",
    "\n",
    "**<span style=\"color: green;\">Tip:</span>** This method was tested on a Homebrew installation, but if you can find the root of your Neo4j installation, from there you should be able to access ```data/dbms/``` and perform ```rm auth``` or similar.*\n",
    "\n",
    "### Port Bind Exception\n",
    "\n",
    "You may encounter the following error (piled within a big, ugly stack trace):\n",
    "```\n",
    "org.neo4j.helpers.PortBindException: Address localhost:7687 is already in use, cannot bind to it\n",
    "```\n",
    "\n",
    "The likely culprit is another java program running on your OS. A potential solution for this is to terminate all Java processes and then restarting neo4j:\n",
    "```\n",
    "killall -9 java\n",
    "neo4j console\n",
    "```\n",
    "\n",
    "### Server Certificate Does Not Match Known Certificate for 'localhost'\n",
    "\n",
    "You may encounter the following error when using the Python Neo4j driver middleware after upgrading Neo4j:\n",
    "```\n",
    "ProtocolError: Server certificate does not match known certificate for 'localhost'; check details in file '/Users/Benjamin/.neo4j/known_hosts'\n",
    "```\n",
    "\n",
    "If you're not accessing Neo4j using multiple hosts (which is unlikely), open up a terminal tab and run the following commands:\n",
    "```\n",
    "cd ~/.neo4j\n",
    "rm known_hosts\n",
    "touch known_hosts\n",
    "```\n",
    "\n",
    "If you are using multiple hosts, follow the above but, instead of removing the known_hosts file, edit the file to remove the localhost entry and its associated certificate key.\n",
    "\n",
    "### General SSL Engine Problem\n",
    "\n",
    "This error is the Java version of the above error:\n",
    "```\n",
    "General SSLEngine problem\n",
    "```\n",
    "\n",
    "To solve this, follow the same steps for the above error (Server Certificate Does Not Match Known Certificate for 'localhost')."
   ]
  },
  {
   "cell_type": "markdown",
   "metadata": {},
   "source": [
    "# DREAM Data Access\n",
    "\n",
    "We've placed the full [Disease Module Identification DREAM Challenge](https://www.synapse.org/#!Synapse:syn6156761/wiki/400645) data in a folder on the OHSU Church server. We'll be using a subset for the rest of the tutorial, but if you're feeling bold, go ahead and grab the full data and modify the code to load up a complete network. To get the data:\n",
    "\n",
    "* Open up your preferred terminal app\n",
    "* If you haven't already cloned this repository to your local machine, go ahead and do that now\n",
    "    * To see how to do this, see the README.md of the Github repository\n",
    "* With the repository cloned, cd to its root location.\n",
    "\n",
    "### Just a Subset Please (< 10 MB uncompressed)\n",
    "\n",
    "* Make a data directory and cd\n",
    "```\n",
    "mkdir -p data/subchallenge1/ && cd data/subchallenge1/\n",
    "```\n",
    "* Pull the data from Church: \n",
    "```\n",
    "scp USERNAME@church.ohsu.edu:~/../cordierb/neo4j-tutorial/data/subchallenge1/2_ppi_anonym_v2.txt .\n",
    "```\n",
    "\n",
    "### Full Disease Module Detection DREAM Challenge Data (~300 - 400MB uncompressed)\n",
    "\n",
    "* Pull the complete data folder from Church: \n",
    "```\n",
    "scp -r USERNAME@church.ohsu.edu:~/../cordierb/neo4j-tutorial/data .\n",
    "```\n",
    "\n",
    "**<span style=\"color: green;\">Tip:</span>** *If you're unfamiliar with the scp command, in brief, it allows you to transfer files and directories between machines (usually your local machine and a server). The trailing '.' in the command will pull the data to your current directory – if you're not already in the repository's directory, you can specify an absolute path in place of the '.' (e.g. ~/Desktop/neo4j-tutorial)*\n",
    "\n",
    "# Exploring The DREAM Data With NetworkX\n",
    "\n",
    "While Neo4j is a cool NoSQL database, given that the DREAM data for this tutorial has a relatively small footprint and Neo4j has few built in tools for robust graph analysis, a more sane approach is to just load up a DREAM TSV file into NetworkX and start an analysis, which is the approach we've opted for below.\n",
    "\n",
    "**<span style=\"color: green;\">Tip:</span>** *Much of these analyses take time to complete (at least several minutes) - even on the small 10MB subset. Make sure to watch the grey circle representing the Python Kernel of the Jupyter Notebook; if it's filled in grey, it's still running code.*\n",
    " \n",
    "### Importing the DREAM data"
   ]
  },
  {
   "cell_type": "code",
   "execution_count": 11,
   "metadata": {
    "collapsed": false
   },
   "outputs": [
    {
     "name": "stdout",
     "output_type": "stream",
     "text": [
      "Example of an Edge From DREAM Data\n",
      "\n",
      "Node A \tNode B \tEdge Weight\n",
      "0\t3\t0.461\n"
     ]
    }
   ],
   "source": [
    "import csv as CSV\n",
    "\n",
    "# Set to Data Directory\n",
    "dataFile = \"data/subchallenge1/1_ppi_anonym_v2.txt\"\n",
    "\n",
    "# Open Data and Store edgeList Reference\n",
    "with open(dataFile, \"r\") as data:\n",
    "    edgeData = CSV.reader(data, delimiter = \"\\t\")\n",
    "    # The Edge Data is Imported as Strings, Let's Type the Edge Weights to Floats and Nodes to Integers\n",
    "    edgeList = [tuple(map(lambda x: float(x) if \".\" in x else int(x), edge)) for edge in edgeData]\n",
    "    \n",
    "# So What Does an Individual Edge Look Like?\n",
    "print(\"Example of an Edge From DREAM Data\\n\")\n",
    "print(\"Node A \\tNode B \\tEdge Weight\")\n",
    "print(\"\\t\".join(str(x) for x in edgeList[0]))\n",
    "\n"
   ]
  },
  {
   "cell_type": "markdown",
   "metadata": {
    "collapsed": false
   },
   "source": [
    "### Generating The Network"
   ]
  },
  {
   "cell_type": "code",
   "execution_count": 12,
   "metadata": {
    "collapsed": false
   },
   "outputs": [],
   "source": [
    "# Import Modules - Note we Already Imported NetworkX & Matplotlib Above\n",
    "from collections import defaultdict\n",
    "\n",
    "# Create Graph Object & Add Edges\n",
    "graph = Nx.Graph()\n",
    "graph.add_weighted_edges_from(edgeList)"
   ]
  },
  {
   "cell_type": "markdown",
   "metadata": {},
   "source": [
    "### Some Metrics\n",
    "\n",
    "Some good things to know off the bat are:\n",
    "* How many nodes are in the network?\n",
    "* How many edges are in the network?\n",
    "* How many connected components are in the network?\n",
    "* For each connected component, how many nodes and edges are there?\n",
    "\n",
    "For the last question, a special case of the connected component is the Big Component (i.e. the largest component), which often comprises the vast majority of edges in a network.\n",
    "\n",
    "In addition, it's often valuable to also ask:\n",
    "* What is the mean shortest path of the network (and its components)?\n",
    "* What is the diameter of the network (and its components)? "
   ]
  },
  {
   "cell_type": "code",
   "execution_count": 13,
   "metadata": {
    "collapsed": false
   },
   "outputs": [
    {
     "name": "stdout",
     "output_type": "stream",
     "text": [
      "Network Metrics\n",
      "\n",
      "Nodes: 17397\n",
      "Edges: 2232405\n",
      "n Connected Components: 4\n",
      "\n",
      "_________________________________________________________\n",
      "\n",
      "Computing Component Metrics...\n",
      "\n",
      "\tBig Component\n",
      "\tNodes: 17388\n",
      "\tComponent Edges: 2232398 \n",
      "\n",
      "\tNodes: 4\n",
      "\tComponent Edges: 3 \n",
      "\n",
      "\tNodes: 3\n",
      "\tComponent Edges: 3 \n",
      "\n",
      "\tNodes: 2\n",
      "\tComponent Edges: 1 \n",
      "\n",
      "\n"
     ]
    }
   ],
   "source": [
    "print(\"Network Metrics\\n\")\n",
    "\n",
    "nodes = Nx.number_of_nodes(graph)\n",
    "edges = Nx.number_of_edges(graph)\n",
    "nComponents = Nx.number_connected_components(graph)\n",
    "\n",
    "print(\"Nodes:\", nodes)\n",
    "print(\"Edges:\", edges)\n",
    "print(\"n Connected Components:\", nComponents)\n",
    "\n",
    "printBreak()\n",
    "\n",
    "print(\"Computing Component Metrics...\\n\")\n",
    "\n",
    "components = sorted(Nx.connected_component_subgraphs(graph), key = len, reverse = True)\n",
    "bigComponent = components[0]\n",
    "\n",
    "print(\"\\tBig Component\")\n",
    "for component in components:\n",
    "    print(\"\\tNodes:\", Nx.number_of_nodes(component))\n",
    "    print(\"\\tComponent Edges:\", Nx.number_of_edges(component), \"\\n\")\n",
    "    # The Metrics Below Take A Long Time to Compute\n",
    "    # print(\"\\tComponent Diameter:\", Nx.diameter(component))\n",
    "    # print(\"\\tMean (Weighted) Shortest Path:\", NX.average_shortest_path_length(component, weighted = True)\n",
    "    \n",
    "# Given that the Big Component Comprises Over 99.99% of The Network, Let's Ignore The Rest\n",
    "graph = Nx.Graph(bigComponent)\n",
    "\n",
    "print(graph)"
   ]
  },
  {
   "cell_type": "markdown",
   "metadata": {},
   "source": [
    "### Plotting The Network\n",
    "\n",
    "Often times little is gained from plotting large biological networks (this is a personal opinion), especially if the nodes and edges are unlabeled as they are in the DREAM data. If you want to plot the 10MB network, uncomment the code below and arm your patience – it takes upwards of 20 minutes. \n",
    "\n",
    "**<span style=\"color: red;\">Caveat:</span>** *While the plotting works technically, it is by no means optimized; the network is too large and ends up looking 'blobby'...or like a petridish with a vibrant culture. Point it, it's not pretty.*"
   ]
  },
  {
   "cell_type": "code",
   "execution_count": 14,
   "metadata": {
    "collapsed": false
   },
   "outputs": [],
   "source": [
    "# Uncomment to Plot The Network, This Takes A While...\n",
    "# layout = Nx.spring_layout(graph)\n",
    "# Nx.draw(graph, layout, alpha = 0.5, node_size=10, node_color='rgb(189, 221, 60)', edge_color='rgb(192, 192, 192)', edge_cmap=Plot.cm.Greens, with_labels = False)\n",
    "# Plot.axis('off')\n",
    "# Plot.savefig('dream-network.pdf', bbox_inches='tight')\n",
    "# Plot.show()"
   ]
  },
  {
   "cell_type": "markdown",
   "metadata": {},
   "source": [
    "### Plotting Network Degree Distribution\n",
    "\n",
    "Networks with a degree distribution that follow a powerlaw are common and known as [scale-free networks](https://en.wikipedia.org/wiki/Scale-free_network). When doing the EDA for any network data, it's always a good idea to see if the data follows this assumption early in an analysis. "
   ]
  },
  {
   "cell_type": "code",
   "execution_count": 15,
   "metadata": {
    "collapsed": false
   },
   "outputs": [
    {
     "ename": "AttributeError",
     "evalue": "'tuple' object has no attribute 'savefig'",
     "output_type": "error",
     "traceback": [
      "\u001b[0;31m---------------------------------------------------------------------------\u001b[0m",
      "\u001b[0;31mAttributeError\u001b[0m                            Traceback (most recent call last)",
      "\u001b[0;32m<ipython-input-15-8c6bcc5d5a16>\u001b[0m in \u001b[0;36m<module>\u001b[0;34m()\u001b[0m\n\u001b[1;32m     12\u001b[0m \u001b[0maxis\u001b[0m\u001b[0;34m.\u001b[0m\u001b[0mset_ylabel\u001b[0m\u001b[0;34m(\u001b[0m\u001b[0;34m'Frequency'\u001b[0m\u001b[0;34m,\u001b[0m \u001b[0mfontsize\u001b[0m \u001b[0;34m=\u001b[0m \u001b[0;36m16\u001b[0m\u001b[0;34m)\u001b[0m\u001b[0;34m\u001b[0m\u001b[0m\n\u001b[1;32m     13\u001b[0m \u001b[0mplot\u001b[0m \u001b[0;34m=\u001b[0m \u001b[0mPlot\u001b[0m\u001b[0;34m.\u001b[0m\u001b[0mhist\u001b[0m\u001b[0;34m(\u001b[0m\u001b[0mnDegrees\u001b[0m\u001b[0;34m,\u001b[0m \u001b[0mbins\u001b[0m \u001b[0;34m=\u001b[0m \u001b[0;36m100\u001b[0m\u001b[0;34m,\u001b[0m \u001b[0mnormed\u001b[0m \u001b[0;34m=\u001b[0m \u001b[0;32mTrue\u001b[0m\u001b[0;34m,\u001b[0m \u001b[0mfacecolor\u001b[0m\u001b[0;34m=\u001b[0m\u001b[0;34m'green'\u001b[0m\u001b[0;34m,\u001b[0m \u001b[0malpha\u001b[0m\u001b[0;34m=\u001b[0m\u001b[0;36m0.5\u001b[0m\u001b[0;34m)\u001b[0m\u001b[0;34m\u001b[0m\u001b[0m\n\u001b[0;32m---> 14\u001b[0;31m \u001b[0mplot\u001b[0m\u001b[0;34m.\u001b[0m\u001b[0msavefig\u001b[0m\u001b[0;34m(\u001b[0m\u001b[0;34m\"plots/network-degree-distribution.pdf\"\u001b[0m\u001b[0;34m,\u001b[0m \u001b[0mbbox_inches\u001b[0m\u001b[0;34m=\u001b[0m\u001b[0;34m'tight'\u001b[0m\u001b[0;34m)\u001b[0m\u001b[0;34m\u001b[0m\u001b[0m\n\u001b[0m",
      "\u001b[0;31mAttributeError\u001b[0m: 'tuple' object has no attribute 'savefig'"
     ]
    },
    {
     "data": {
      "image/png": "[encoded data removed]",
      "text/plain": [
       "<matplotlib.figure.Figure at 0x109a626a0>"
      ]
     },
     "metadata": {},
     "output_type": "display_data"
    }
   ],
   "source": [
    "degrees = defaultdict(int)\n",
    "for node, degree in Nx.degree(graph).items():\n",
    "    degrees[degree] += 1\n",
    "\n",
    "nDegrees = [count for degree, count in degrees.items()]\n",
    "\n",
    "# Plot\n",
    "figure = Plot.figure(num = None, figsize = (16, 12), dpi = 300)\n",
    "axis = figure.add_subplot(111)\n",
    "axis.set_title(\"Network Degree Distribution\", fontsize = 20)\n",
    "axis.set_xlabel('Degree', fontsize = 16)\n",
    "axis.set_ylabel('Frequency', fontsize = 16)\n",
    "plot = Plot.hist(nDegrees, bins = 100, normed = True, facecolor='green', alpha=0.5)\n",
    "plot.savefig(\"plots/network-degree-distribution.pdf\", bbox_inches='tight')"
   ]
  },
  {
   "cell_type": "markdown",
   "metadata": {},
   "source": [
    "Now that's a heavy tail!\n",
    "\n",
    "### Plotting Network Weighted Degree Distribution\n",
    "\n",
    "Taking a page from [Newman (2004)](https://arxiv.org/pdf/cond-mat/0407503.pdf), it's also worth plotting the node-edge weight distribution. Since we only have edge weights, we can approximate the node weight by summing the weights of the relationships for a given node. Using this information, we can then plot an approximation of the Network's weighted degree distribution."
   ]
  },
  {
   "cell_type": "code",
   "execution_count": null,
   "metadata": {
    "collapsed": false
   },
   "outputs": [],
   "source": [
    "weights = defaultdict(int)\n",
    "for nodeA, nodeB, data in graph.edges(data = True): \n",
    "    weights[nodeA] += data[\"weight\"]\n",
    "    weights[nodeB] += data[\"weight\"]\n",
    "    \n",
    "# Let's Set The Weights to Ints, Not Ideal\n",
    "nWeights = [int(weight) for node, weight in weights.items()]\n",
    "\n",
    "# Plot\n",
    "figure = Plot.figure(num = None, figsize = (16, 12), dpi = 300)\n",
    "axis = figure.add_subplot(111)\n",
    "axis.set_title(\"Network Weighted Degree Distribution\", fontsize = 20)\n",
    "axis.set_xlabel('Weighted Degree', fontsize = 16)\n",
    "axis.set_ylabel('Frequency', fontsize = 16)\n",
    "plot = Plot.hist(nWeights, bins = 100, normed = True, facecolor='green', alpha=0.5)\n",
    "plot.savefig(\"plots/network-weighted-degree-distribution.pdf\", bbox_inches='tight')"
   ]
  },
  {
   "cell_type": "markdown",
   "metadata": {},
   "source": [
    "### Centrality\n",
    "\n",
    "There are many centrality measures for any given node in a network. For the network in question, three such measures are:\n",
    "\n",
    "* [Degree Centrality](https://en.wikipedia.org/wiki/Centrality#Degree_centrality)\n",
    "* [Eigenvector Centrality](https://en.wikipedia.org/wiki/Centrality#Eigenvector_centrality)\n",
    "* [Betweenness Centrality](https://en.wikipedia.org/wiki/Centrality#Betweenness_centrality)\n",
    "\n",
    "Below we compute two of these centrality measures for all the nodes in the network and then use the results to find the nodes with maximum and minimum centrality by each measure. We then also list the nodes with maximum centrality. While there is code for the third, it is not computed because of the time complexity – in its naive form, it involves the computation of shortest path between all node pairs in a network. The networkX implementation doesn't use this form but takes a while (hours), regardless. \n",
    "\n",
    "**<span style=\"color: red;\">Caveat:</span>** *The code block below takes a while to compute (several minutes)*"
   ]
  },
  {
   "cell_type": "code",
   "execution_count": null,
   "metadata": {
    "collapsed": false
   },
   "outputs": [],
   "source": [
    "import operator\n",
    "\n",
    "#\n",
    "# Compute Centralities With NetworkX\n",
    "#\n",
    "\n",
    "print(\"\\nComputing Degree Centrality...\\n\")\n",
    "centralityDegree = Nx.degree_centrality(graph)\n",
    "valuesDegree = [value for key, value in centralityDegree.items()]\n",
    "\n",
    "# Get Maxes & Mins Degree Centrality\n",
    "maxDegN = max(centralityDegree.items(), key = operator.itemgetter(1))[0]\n",
    "maxDegC = max(valuesDegree)\n",
    "minDegC = min(valuesDegree)\n",
    "\n",
    "print(\"\\tMax Degree Centrality Node:\", maxDegN)\n",
    "print(\"\\tMax Degree Centrality:     \", maxDegC)\n",
    "print(\"\\tMin Degree Centrality:     \", minDegC)\n",
    "\n",
    "print(\"\\nComputing Eigenvector Centrality...\\n\")\n",
    "centralityEigen = Nx.eigenvector_centrality(graph)\n",
    "valuesEigen = [value for key, value in centralityEigen.items()]\n",
    "\n",
    "# Get Maxes & Mins Eigenvector Centrality\n",
    "maxEigN = max(centralityEigen.items(), key = operator.itemgetter(1))[0]\n",
    "maxEigC = max(valuesEigen)\n",
    "minEigC = min(valuesEigen)\n",
    "\n",
    "print(\"\\tMax Eigen Centrality Node:\", maxEigN)\n",
    "print(\"\\tMax Eigen Centrality:     \", maxEigC)\n",
    "print(\"\\tMin Eigen Centrality:     \", minEigC)\n",
    "\n",
    "# print(\"\\nComputing Betweenness Centrality...\\n\")\n",
    "# centralityBetween = Nx.betweenness_centrality(graph)\n",
    "# valuesBetween = [value for key, value in centralityBetween.items()]\n",
    "\n",
    "# # Get Maxes & Mins Betweenness Centrality\n",
    "# maxBetN = max(centralityBetween.items(), key = operator.itemgetter(1))[0]\n",
    "# maxBetC = max(valuesBetween)\n",
    "# minBetC = min(valuesBetween)\n",
    "\n",
    "# print(\"\\tMax Betweenness Centrality Node:\", maxBetN)\n",
    "# print(\"\\tMax Betweenness Centrality:     \", maxBetC)\n",
    "# print(\"\\tMin Betweenness Centrality:     \", minBetC)"
   ]
  },
  {
   "cell_type": "markdown",
   "metadata": {
    "collapsed": true
   },
   "source": [
    "### But Modules?"
   ]
  },
  {
   "cell_type": "markdown",
   "metadata": {
    "collapsed": true
   },
   "source": [
    "Module detection (aka community detection) is a challenging problem in graph theory with a [number of established approaches](https://en.wikipedia.org/wiki/Community_structure#Algorithms_for_finding_communities). Importantly, the DREAM Challenge states that a primary constraint to their detection problem is that communities are not allowed to overlap, which will influence any approaches to modeling the network for community detection or applying clustering algorithms. \n",
    "\n",
    "That said, module detection is outside the scope (and resources) of this Jupyter Notebook – even if we are working on a subset. That said, if you're interested in taking a crack at it, there are several software implementations for the detection of modules in biological networks. Here few examples to get you started:\n",
    "\n",
    "* MTOM: [Software](https://labs.genetics.ucla.edu/horvath/MTOM/) / [Publication](https://www.ncbi.nlm.nih.gov/pmc/articles/PMC2727520/)\n",
    "* General optimization technique for high-quality community detection in complex networks: [Software](http://senseable.mit.edu/community_detection/) / [Publication](http://journals.aps.org/pre/abstract/10.1103/PhysRevE.90.012811)\n",
    "* HyperModules: [Cytoscape plugin](http://apps.cytoscape.org/apps/hypermodules)\n",
    "* NeMo: [Cytoscape plugin](http://apps.cytoscape.org/apps/nemo)\n"
   ]
  },
  {
   "cell_type": "markdown",
   "metadata": {},
   "source": [
    "# Done!\n",
    "\n",
    "You've come to the end of the tutorial, congrats! Take a break – you've earned it (and, besides, now you have time to kill while your computer churns, and churns, and churns...)\n",
    "\n",
    "The exploration above is a truly basic exploratory data analysis (EDA); the analysis can go so much deeper. If you're interested in continuing with Python & NetworkX to explore the data further, get a speed boost with some parallelizations, and generate some real module identification predictions, it's worth checking out this book.\n",
    "\n",
    "Cheers!"
   ]
  }
 ],
 "metadata": {
  "kernelspec": {
   "display_name": "Python 3",
   "language": "python",
   "name": "python3"
  },
  "language_info": {
   "codemirror_mode": {
    "name": "ipython",
    "version": 3
   },
   "file_extension": ".py",
   "mimetype": "text/x-python",
   "name": "python",
   "nbconvert_exporter": "python",
   "pygments_lexer": "ipython3",
   "version": "3.5.2"
  }
 },
 "nbformat": 4,
 "nbformat_minor": 0
}
