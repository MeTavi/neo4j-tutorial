{
 "cells": [
  {
   "cell_type": "markdown",
   "metadata": {},
   "source": [
    "# Overview\n",
    "\n",
    "* [Introduction](#Introduction)\n",
    "    * Neo4j & Python\n",
    "* [Setup](#Setup) \n",
    "    * A Note on Python Versions\n",
    "    * Install Neo4j\n",
    "    * Setup Database Authentication\n",
    "    * Authentication's No Fun :(\n",
    "    * Installing Python to Neo4j Middleware\n",
    "* [Cypher Basics & Middleware Options](#Cypher-Basics-&-Middleware-Options)\n",
    "    * Connecting to Neo4j & Creating a Session\n",
    "    * The Cypher Query Language\n",
    "    * A Basic API Example\n",
    "    * API-Based Programmatic Access\n",
    "* [Data Access](#Data-Access)\n",
    "    * Just a Subset Please\n",
    "    * Full Disease Module Detection DREAM Challenge Data   \n",
    "* [Exploring The DREAM Data With NetworkX](#Exploring-The-Dream-Data-With-NetworkX)\n",
    "* [Common Issues & Their Solutions](#Common-Issues-&-Their-Solutions)\n",
    "    * If You Previously Installed Neo4j and Forgot Your Username/Password\n",
    "    * Port Bind Exception\n",
    "    * Server Certificate Does Not Match Known Certificate for 'localhost'\n",
    "    * General SSL Engine Problem"
   ]
  },
  {
   "cell_type": "markdown",
   "metadata": {},
   "source": [
    "# Introduction\n",
    "\n",
    "This tutorial is written for people with a general technical background, specifically a basic knowledge of databases, working in the terminal, and a strong understanding of at least one computer language. It was written with Unix operating systems in mind, so while we discuss installation steps for Windows in brief and have made an effort to support it on a basic level, some of the code (i.e. most if not all the terminal commands) and file locations may differ. \n",
    "\n",
    "So, what can this tutorial do for you?\n",
    "\n",
    "* Help you get a Neo4j database up and running quickly on your local machine\n",
    "* Give you a quick guided tour of Neo4j & Cypher to see how they work together\n",
    "* Expose you to two difference flavors of Neo4j to Python middleware\n",
    "* Help you perform a preliminary analysis on a subset of data from the [Disease Module Identification DREAM Challenge](https://www.synapse.org/#!Synapse:syn6156761/wiki/400645)\n",
    "\n",
    "That said, if you are already well-versed in Neo4j and feel comfortable with Cypher feel free to [grab the DREAM data](#Data-Access) and skip ahead to the analysis part of the tutorial. Also, don't forget to [install NetworkX](#Installing-Python-to-Neo4j-Middleware-&-NetworkX) for the analysis portion. We're excited to see what analyses people may run now and in the future. \n",
    "\n",
    "And of course, if you run into any issues, give a shout to either Ben, Eric, or Ian and we'll come lend a hand. Finally, we hope you find this a fun and approachable way to getting started with Neo4j. Happy keyboard mashing!"
   ]
  },
  {
   "cell_type": "markdown",
   "metadata": {},
   "source": [
    "# Setup\n",
    "\n",
    "\n",
    "### A Note on Python Versions\n",
    "This tutorial was written using Python 3.5, so if you only have Python 2.x, you may find some things are different. While there are several (very small) differences between the two versions of the language, the ones that will be of interest for this tutorial relate to the print statement / function and Python's pacakge manager Pip:\n",
    "\n",
    " Python 2.x         | Python 3.x        \n",
    " ------------------ | :------------------:\n",
    " `print \"oink\"`     | `print(\"oink\")`   \n",
    " `pip install woof` | `pip3 install woof`\n",
    " \n",
    " **<span style=\"color: red;\">Caveat:</span>** *It is possible that if you only have a Python3 installation, you will not need to use `pip3` in place of `pip`.*\n",
    "\n",
    "### Install Neo4j\n",
    "\n",
    "We've tested two ways to setup Neo4j on Mac OS X and one on Microsoft Windows that you can choose from below. \n",
    "\n",
    "#### Homebrew – Mac OS X\n",
    "\n",
    "There are a number of ways you can install Neo4j. If you have homebrew, type the following command into your terminal:\n",
    "```\n",
    "brew install neo4j\n",
    "```\n",
    "Be sure to take note of what version is installed (there's a chance you may need this in a moment); for me it was 3.0.3, but at the time of writing the latest is 3.0.6. \n",
    "\n",
    "#### Desktop Application – Mac OS X & Microsoft Windows\n",
    "\n",
    "* Go to the [Neo4j website](https://neo4j.com)\n",
    "* Click the big red Download button\n",
    "* Click the green Download Community Edition button\n",
    "* Select the appropriate download and run through the installation steps required by your OS\n",
    "\n",
    "### Setup Database Authentication\n",
    "\n",
    "It's recommended you setup a username/password for Neo4j (that said, read the caveat below before you do.) To do this:\n",
    "\n",
    "* Go to your terminal application and open up a new window or pane, and type: \n",
    "```\n",
    "neo4j console\n",
    "```\n",
    "* Next, in your browser navigate to [`http://localhost:7474`](http:////localhost:7474)\n",
    "* You should be prompted to set a new username/password. Of course, make sure it's something you'll remember; resetting your user/pass in Neo4j tends to be a bit of terminal hackery and is poorly documented. If you're having trouble, you can skip down to the [Authentication's No Fun :(](#Authentication's-No-Fun-:-() section to disable authentication; if you already setup a user/pass and forgot it, check out [Some Helpful Installation Hints](#Some-Helpful-Installation-Hints).\n",
    "\n",
    "**<span style=\"color: green;\">Tip:</span>** *Once you've set this up, you may want to take a moment and explore the Neo4j web application. It's a cute way to play around with some toy databases, check out some nifty network visualizations, send some queries, and get a feel for the syntax and functionality of the Cypher query language. If you're thinking, 'Meh, I'm not into toys and cute stuff, I'm a hardcore bioinformaticist.', scroll down to the [Data Access](#Data-Access) portion for some much-less-cute (but really it's not bad at all) bioinformatics data.*\n",
    "\n",
    "**<span style=\"color: red;\">Caveat:</span>** *The user/pass you set will need to be hardcoded into the Python code of this tutorial early on, so if you feel more comfortable going with the default user/pass, follow the instructions above up to setting your user/pass then head down to [Data Access](#Data-Access)*\n",
    "\n",
    "### Authentication's No Fun : (\n",
    "\n",
    "Security through authentication is important, but we're realists and know that this is a tutorial...so if you installed with homebrew and are having trouble getting the authentication up and running quickly, you can shut off authentication. To do that, do the following:\n",
    "\n",
    "* Use your terminal to navigate to the following directory (replace `VERSION` with the version number you just wrote down):\n",
    "```\n",
    "cd ~/../../usr/local/Cellar/neo4j/VERSION/libexec/conf/\n",
    "```\n",
    "* Now in the ```conf/``` directory, open the file ```neo4j.conf``` using your preferred terminal editor (e.g. Vim, Emacs, Nano)\n",
    "* Scroll through the file until you find the following line (it should be near the top):\n",
    "```\n",
    "# dbms.security.auth_enabled=false\n",
    "```\n",
    "* Per the instructions above it, uncomment the line. It should look like this: \n",
    "```\n",
    "dbms.security.auth_enabled=false\n",
    "```\n",
    "* Save and close the file `neo4j.conf`\n",
    "* Pat your self on the back; your database is now authentication free...\n",
    "\n",
    "**<span style=\"color: green;\">Tip:</span>** *If you didn't install with Homebrew or are using a different OS (not Mac OS X), these steps should be the same but the location of the `neo4j.conf` file will be different.* \n",
    "\n",
    "**<span style=\"color: red;\">Caveat:</span>** *With great power comes great responsibility. In the interest of getting started quickly, we're offering the above instructions as an option. That said, we feel obliged to say that disabling authentication should never, ever be done in a production environment or for any database(s) hosting sensitive data. If you plan on using Neo4j outside the scope of this tutorial, be sure to setup authentication as intended (above). That said, rest assured the Neo4j documentation states that, unless configured to do so, Neo4j will not respond to external requests (i.e. not from your localhost)...although, the same documentation also states the above may make you vulnerable to a number of known attacks (e.g. cross-site scripting).*\n",
    "\n",
    "### Installing Python to Neo4j Middleware & NetworkX\n",
    "\n",
    "Python does not natively support interacting with Neo4j and requires middleware to do so. There are several available each with their own flavor, one of which is officially sponsored by Neo4j. We'll be using two Python to Neo4j middlewares in this tutorial. \n",
    "\n",
    "The first is the [official Neo4j middleware](https://neo4j.com/developer/python/), which has been designed to expose the Cypher query language in the Python environment and facilitate connecting to any Neo4j instance.\n",
    "\n",
    "The second middleware is the [unofficial Py2Neo](http://py2neo.org/v3/). The design of this middleware is different; rather than use the Cypher query language (i.e. bumble through learning a language with a syntax that may be quite foreign), Py2Neo provides us with a Pythonic API to access and query the database with almost no knowledge of the Cypher language required. Similar to the official Neo4j, it too allows for easy connecting to any Neo4j instance. \n",
    "\n",
    "To install the two middlewares, paste the commands below into your terminal:\n",
    "```\n",
    "pip3 install neo4j-driver\n",
    "pip3 install py2neo\n",
    "```\n",
    "\n",
    "Finally, if you plan on exploring the [DREAM Disease Module Identification Challenge](https://www.synapse.org/#!Synapse:syn6156761) data, a great package to work with it is [NetworkX](https://networkx.github.io). To install it, paste the command below into you terminal:\n",
    "```\n",
    "pip3 install networkx\n",
    "```"
   ]
  },
  {
   "cell_type": "markdown",
   "metadata": {},
   "source": [
    "# Cypher Basics & Middleware Options\n",
    "\n",
    "### Connecting to Neo4j & Creating a Session"
   ]
  },
  {
   "cell_type": "code",
   "execution_count": 353,
   "metadata": {
    "collapsed": false
   },
   "outputs": [],
   "source": [
    "from neo4j.v1 import GraphDatabase\n",
    "from neo4j.v1 import basic_auth     as Authentication\n",
    "\n",
    "# Connect to Neo4j\n",
    "gdb     = GraphDatabase.driver(\"bolt://localhost\",  auth = Authentication(\"neo4j\", \"test\"))\n",
    "\n",
    "# Create a Session\n",
    "session = gdb.session()"
   ]
  },
  {
   "cell_type": "markdown",
   "metadata": {},
   "source": [
    "**<span style=\"color: green;\">Tip:</span>** *You may have noticed above that we're not connecting to the database with a common protocol (e.g. http, https, ssh). While Neo4j can make use of http and https, the developers of the software have also written an optimized protocol known as bolt.*\n",
    "\n",
    "### The Cypher Query Language\n",
    "\n",
    "You should now have access to your Neo4j instance through the active session. At this point, if you haven't already, it's worth running through some basic Cypher queries to get a feel for the language, what's happening under the hood, and how Neo4j thinks about data. \n",
    "\n",
    "As mentioned earlier, the Neo4j official driver (middleware) for Python simply exposes the Cypher query language through the `session.run()` method. There are benefits and drawbacks to this:\n",
    "\n",
    "**<span style=\"color: green;\">Some benefits:</span>**\n",
    "* You get the full flexibility of the Cypher query language\n",
    "* For running queries, you need one method only\n",
    "* The driver provides access to database settings and configurations that other middlewares may not expose\n",
    "* Officially supported & well documented\n",
    "\n",
    "**<span style=\"color: red;\">Some drawbacks:</span>**\n",
    "* Requires a working knowledge of the Cypher query language\n",
    "* Less Pythonic queries by default\n",
    "* May require more hardcoding or the creation of a custom set of Python to Cypher functions\n",
    "\n",
    "For those who are comfortable programmin in Python, the ability of the official driver to run Cypher queries directly makes it a great starting point. \n",
    "\n",
    "####  Deleting Nodes & Edges\n",
    "\n",
    "Before jumping in, it's worth laying out how to delete nodes and edges so that you can hit the reset button if any queries aren't working as expected. "
   ]
  },
  {
   "cell_type": "code",
   "execution_count": 354,
   "metadata": {
    "collapsed": false
   },
   "outputs": [
    {
     "data": {
      "text/plain": [
       "<neo4j.v1.session.StatementResult at 0x10c081f28>"
      ]
     },
     "execution_count": 354,
     "metadata": {},
     "output_type": "execute_result"
    }
   ],
   "source": [
    "# # To Delete All Relationships (Must Be Done Before Deleting Nodes)\n",
    "# session.run(\"START n = node(*) MATCH n-[r]-() DELETE r\")\n",
    "\n",
    "# # To Delete All Nodes\n",
    "# session.run(\"START n = node(*) MATCH n DELETE n\")\n",
    "\n",
    "# To Delete All Nodes & Relationships Simultaneously\n",
    "session.run(\"MATCH (n) OPTIONAL MATCH (n)-[r]-() DELETE n, r\")"
   ]
  },
  {
   "cell_type": "markdown",
   "metadata": {},
   "source": [
    "#### Creating & Querying Nodes"
   ]
  },
  {
   "cell_type": "code",
   "execution_count": 355,
   "metadata": {
    "collapsed": false
   },
   "outputs": [
    {
     "name": "stdout",
     "output_type": "stream",
     "text": [
      "A Legendary (kinda) Haiku of Yore\n",
      "\n",
      "Artorius Pendragon was a legendary king that loved spam\n",
      "Gwythyr ap Greidawl was a legendary queen that loved spam\n",
      "Little Lancelot du Lac was a legendary knight that had a very testy relationship with spam\n",
      "Myrddin Wyllt was a legendary wizard that loved spam\n"
     ]
    }
   ],
   "source": [
    "# Create Five Nodes\n",
    "createNodes = \"CREATE \\\n",
    "(Arthur:    Person {fullName: 'Artorius Pendragon',   title: 'King',    age: 37,  influence: 1.00, lovesSpam: true}), \\\n",
    "(Guinevere: Person {fullName: 'Gwythyr ap Greidawl',  title: 'Queen',   age: 32,  influence: 0.75, lovesSpam: true}), \\\n",
    "(Lancelot:  Person {fullName: 'Lancelot du Lac',      title: 'Knight',  age: 29,  influence: 0.25, lovesSpam: false}), \\\n",
    "(Merlin:    Person {fullName: 'Myrddin Wyllt',        title: 'Wizard',  age: 68,  influence: 0.50, lovesSpam: true})\"\n",
    "session.run(createNodes)\n",
    "\n",
    "# Query The Four Generated Nodes\n",
    "matchNodes  = \"MATCH (Person) RETURN Person.fullName AS name, Person.title AS title, Person.lovesSpam AS spam\"\n",
    "records     = session.run(matchNodes)\n",
    "\n",
    "# Print Results\n",
    "print(\"A Legendary (kinda) Haiku of Yore\\n\")\n",
    "for record in records:\n",
    "    if record[\"spam\"]:\n",
    "        print(\"%s was a legendary %s that loved spam\" % (record[\"name\"], record[\"title\"].lower()))\n",
    "    else:\n",
    "        print(\"Little %s was a legendary %s that had a very testy relationship with spam\" % (record[\"name\"], record[\"title\"].lower()))"
   ]
  },
  {
   "cell_type": "markdown",
   "metadata": {},
   "source": [
    "#### Creating & Querying Edges"
   ]
  },
  {
   "cell_type": "code",
   "execution_count": 356,
   "metadata": {
    "collapsed": false
   },
   "outputs": [
    {
     "name": "stdout",
     "output_type": "stream",
     "text": [
      "p: <Path start=1276 end=1274 size=1>\n",
      "r: <Relationship id=1601 start=1276 end=1274 type='SUBJECT_TO' properties={}>\n",
      "a: <Node id=1276 labels=set() properties={}>\n",
      "b: <Node id=1274 labels=set() properties={}> \n",
      "\n"
     ]
    }
   ],
   "source": [
    "# Set This to a Relationship of Interest\n",
    "queryRelationship = \"SUBJECT_TO\"\n",
    "\n",
    "# Generate Some Edges - Note Arrows Can go Both Directions (see ADVISEE_TO relationship)\n",
    "createEdges = \"CREATE \\\n",
    "(Arthur)-[:HUSBAND_TO]->(Guinevere), \\\n",
    "(Arthur)-[:KING_TO]->(Lancelot), \\\n",
    "(Arthur)-[:KING_TO]->(Merlin), \\\n",
    "(Guinevere)-[:WIFE_TO]->(Arthur), \\\n",
    "(Guinevere)-[:FRIEND_TO]->(Lancelot), \\\n",
    "(Guinevere)-[:FRIEND_TO]->(Merlin), \\\n",
    "(Lancelot)-[:SUBJECT_TO]->(Arthur), \\\n",
    "(Lancelot)-[:FRIEND_TO]->(Guinevere), \\\n",
    "(Merlin)-[:ADVISOR_TO]->(Arthur), \\\n",
    "(Merlin)<-[:ADVISEE_TO]-(Arthur), \\\n",
    "(Merlin)-[:FRIEND_TO]->(Guinevere)\"\n",
    "\n",
    "session.run(createEdges)\n",
    "\n",
    "# Query Path Between Nodes & Edge\n",
    "queryEdges = \"MATCH p = (a)-[r:\" + queryRelationship + \"]->(b) return p, r, a, b\"\n",
    "records = session.run(queryEdges)\n",
    "\n",
    "# Print Results\n",
    "for record in records:\n",
    "    print(\"\\n\".join(\"%s: %s\" % (key, record[key]) for key in record.keys()), \"\\n\")"
   ]
  },
  {
   "cell_type": "markdown",
   "metadata": {},
   "source": [
    "#### Querying the Graph\n",
    "\n",
    "If you're interested in learning more about Cypher and querying the Neo4j graph, it's worth cracking open the [Cypher documentation](http://neo4j.com/docs/2.2.8/cypher-query-lang.html) and writing some queries to answer some questions. For the graph above, some basic questions we could ask are:\n",
    "\n",
    "* Who is the oldest character?\n",
    "* Who loves spam?\n",
    "* Who is the least influential?\n",
    "* Who is a wizard?\n",
    "\n",
    "But things could be much more interesting (particularly with real data!) For example, is there an association between a Person's influence and love of Spam? A question for the ages to be sure. There are numerous resources online that describe basic Cypher queries, here's a small selection we've found useful:\n",
    "\n",
    "* [A Cypher Query Cheatsheet](https://gist.github.com/DaniSancas/1d5265fc159a95ff457b940fc5046887)\n",
    "* [A Great DZone Blog Post Comparing Cypher to SQL](https://dzone.com/articles/rdbms-graphs-sql-vs-cypher-query-languages)\n",
    "* [Some Nifty Neo4j & Cypher YouTube Tutorials](https://www.youtube.com/watch?v=UJ81zWBMguc&list=PLAWPhrZnH759YHRieMBzsQRvr56JcYx5l)\n",
    "\n",
    "### A Basic API\n",
    "\n",
    "If you're a believer in the benefits of intelligent abstraction, you've probably noticed that the above is not ideal (particularly if you're new to Cypher and its ASCII art syntax.) One solution may be to develop your own simple API to work with Cypher. If anything, such an approach can be a great way to learn the language and get acquainted with the Neo4j driver middleware. Below is an example of two methods that might compose part of such an API, though they are no doubt of poor quality and should never be used for any serious work. "
   ]
  },
  {
   "cell_type": "code",
   "execution_count": 456,
   "metadata": {
    "collapsed": false
   },
   "outputs": [
    {
     "name": "stdout",
     "output_type": "stream",
     "text": [
      "CREATE (n:Person {title: 'king', age: '37', influence: '1.0', lovesSpam: 'True', fullName: 'Artorius Pendragon'})\n",
      "<neo4j.v1.session.StatementResult object at 0x122dfa8d0> \n",
      "\n",
      "CREATE (Merlin)-[:ADVISOR_TO]->(Arthur)\n",
      "<neo4j.v1.session.StatementResult object at 0x122dfa7b8>\n"
     ]
    }
   ],
   "source": [
    "def createNode (id, attributes, session = session):\n",
    "    queryAttr = \", \".join([\"%s: '%s'\" % (key, value) for key, value in attributes.items()])\n",
    "    query     = \"CREATE (n:%s {%s})\" % (id, queryAttr)\n",
    "    result    = session.run(query)\n",
    "    return result, query\n",
    "\n",
    "# Call the createNode Method\n",
    "result, query = createNode('Person', {\"title\": 'king', \"fullName\": 'Artorius Pendragon', \"age\": 37, \"influence\": 1.00, \"lovesSpam\": True})\n",
    "print(query)\n",
    "print(result, \"\\n\")\n",
    "\n",
    "def createEdge (nodeA, relationship, nodeB, session = session):\n",
    "    query     = \"CREATE (%s)-[:%s]->(%s)\" % (nodeA, relationship, nodeB)\n",
    "    result    = session.run(query)\n",
    "    return result, query\n",
    "\n",
    "# Call the createEdge Method\n",
    "result, query = createEdge('Merlin', \"ADVISOR_TO\", \"Arthur\")\n",
    "print(query)\n",
    "print(result)"
   ]
  },
  {
   "cell_type": "markdown",
   "metadata": {},
   "source": [
    "# API-Based Programmatic Access\n",
    "\n",
    "As mentioned earlier, sometimes you want to skip learning a new language like Cypher. The Py2Neo middleware, for the most part, allows for this convenience, however, as with the official driver there are benefits & drawbacks (below). Next, we'll run through a similar set of queries to demonstrate some very basic Py2Neo functionalities.\n",
    "\n",
    "**<span style=\"color: green;\">Some benefits:</span>**\n",
    "* You get the full flexibility of the Cypher query language (yes, with Py2Neo, you can still use it if required!)\n",
    "* The syntax is largely Pythonic, minimizing language context switching while programming\n",
    "* The driver provides access to database settings and configurations that other middlewares may not expose\n",
    "* Less hardcoding & more sensible use of variables often means less coding\n",
    "\n",
    "**<span style=\"color: red;\">Some drawbacks:</span>**\n",
    "* Requires learning new API methods – you'll still likely have to read documentation \n",
    "* Overly abstracted APIs can obscure underlying logic (Py2Neo avoids this)\n",
    "* Abstracted database querying logic can lead to inefficient code"
   ]
  },
  {
   "cell_type": "markdown",
   "metadata": {},
   "source": [
    "### Connecting to Neo4j with the Py2Neo Middleware"
   ]
  },
  {
   "cell_type": "code",
   "execution_count": 453,
   "metadata": {
    "collapsed": false
   },
   "outputs": [],
   "source": [
    "# Let's First Delete Our Previous Database Entries (Nodes & Relationships)\n",
    "session.run(\"MATCH (n) OPTIONAL MATCH (n)-[r]-() DELETE n, r\")\n",
    "\n",
    "# Import the Py2Neo Middleware\n",
    "from py2neo import Node, Relationship, Graph, NodeSelector\n",
    "\n",
    "# Set Some References\n",
    "database = \"http://localhost:7474/db/data/\"\n",
    "username = \"neo4j\"\n",
    "password = \"test\"\n",
    "\n",
    "# Connect to Neo4j- Note the default username/password is neo4j/neo4j\n",
    "graph    = Graph(database, user = username, password = password)"
   ]
  },
  {
   "cell_type": "markdown",
   "metadata": {},
   "source": [
    "#### Creating & Querying Nodes"
   ]
  },
  {
   "cell_type": "code",
   "execution_count": 454,
   "metadata": {
    "collapsed": false
   },
   "outputs": [
    {
     "name": "stdout",
     "output_type": "stream",
     "text": [
      "Another Legendary (kinda) Haiku of Yore\n",
      "\n",
      "Artorius Pendragon was a legendary king of spam\n",
      "Gwythyr ap Greidawl was a legendary queen of spam\n",
      "Little Lancelot du Lac was a legendary knight of the spam rebel alliance\n",
      "Myrddin Wyllt was a legendary wizard of spam\n",
      "\n",
      "-------------------------------------------------------------------------------------------------------------\n",
      "Let these highly accurate not at all fabricated historical facts be known...\n",
      "\n",
      "Artorius Pendragon was an influential King who survived on a diet highly enriched with spam.\n",
      "Gwythyr ap Greidawl was an influential Queen who survived on a diet highly enriched with spam.\n"
     ]
    }
   ],
   "source": [
    "# List of Legendary Characters' Properties\n",
    "characterProps = [\n",
    "    {\"fullName\": 'Artorius Pendragon',   \"title\": 'King',    \"age\": 37,  \"influence\": 1.00, \"lovesSpam\": True},\n",
    "    {\"fullName\": 'Gwythyr ap Greidawl',  \"title\": 'Queen',   \"age\": 32,  \"influence\": 0.75, \"lovesSpam\": True},\n",
    "    {\"fullName\": 'Lancelot du Lac',      \"title\": 'Knight',  \"age\": 29,  \"influence\": 0.25, \"lovesSpam\": False},\n",
    "    {\"fullName\": 'Myrddin Wyllt',        \"title\": 'Wizard',  \"age\": 68,  \"influence\": 0.50, \"lovesSpam\": True}\n",
    "]\n",
    "\n",
    "storedNodes   = []\n",
    "\n",
    "# Generate Graph Nodes\n",
    "for properties in characterProps:\n",
    "    node      = Node(\"Person\", **properties)\n",
    "    n         = graph.create(node)\n",
    "    storedNodes.append(n)\n",
    "\n",
    "# Select Graph Nodes\n",
    "selector      = NodeSelector(graph)\n",
    "nodes         = selector.select(\"Person\")\n",
    "\n",
    "# Print Another Silly Haiku\n",
    "print(\"Another Legendary (kinda) Haiku of Yore\\n\")\n",
    "for node in nodes:\n",
    "    properties = dict(node)\n",
    "    if properties[\"lovesSpam\"]:\n",
    "        print(\"%s was a legendary %s of spam\" % (properties[\"fullName\"], properties[\"title\"].lower()))\n",
    "    else:\n",
    "        print(\"Little %s was a legendary %s of the spam rebel alliance\" % (properties[\"fullName\"], properties[\"title\"].lower()))\n",
    "print(\"\\n-------------------------------------------------------------------------------------------------------------\")\n",
    "\n",
    "# We Can Also Select by Property or Conditionally Using the Where Function\n",
    "print(\"Let these highly accurate not at all fabricated historical facts be known...\\n\")\n",
    "nodes       = selector.select(\"Person\").where(\"_.influence > 0.72\", \"_.lovesSpam = True\")\n",
    "for node in nodes:\n",
    "    properties = dict(node)\n",
    "    print(\"%s was an influential %s who survived on a diet highly enriched with spam.\" % (properties[\"fullName\"], properties[\"title\"]))\n",
    "    "
   ]
  },
  {
   "cell_type": "markdown",
   "metadata": {},
   "source": [
    "#### Creating & Querying Edges"
   ]
  },
  {
   "cell_type": "code",
   "execution_count": 455,
   "metadata": {
    "collapsed": false
   },
   "outputs": [
    {
     "name": "stdout",
     "output_type": "stream",
     "text": [
      "(a1680a5)-[:FRIEND_TO]->(cae1b25)\n",
      "(b1eff88)-[:FRIEND_TO]->(cae1b25)\n",
      "(cae1b25)-[:FRIEND_TO]->(b1eff88)\n",
      "(cae1b25)-[:FRIEND_TO]->(a1680a5)\n"
     ]
    }
   ],
   "source": [
    "# Set This to a Relationship of Interest\n",
    "queryRelationship = \"FRIEND_TO\"\n",
    "\n",
    "# Generating a Name Map – Because We Didn't Give Short Names to Each Node\n",
    "nameMap = {\n",
    "    \"Arthur\"    : 'Artorius Pendragon',\n",
    "    \"Guinevere\" : 'Gwythyr ap Greidawl',\n",
    "    \"Lancelot\"  : 'Lancelot du Lac',\n",
    "    \"Merlin\"    : 'Myrddin Wyllt'\n",
    "}\n",
    "\n",
    "# Relationships Dictionary\n",
    "relationships = [\n",
    "    {\"a\": \"Arthur\",    \"type\": \"HUSBAND_TO\", \"b\": \"Guinevere\"},\n",
    "    {\"a\": \"Arthur\",    \"type\": \"KING_TO\",    \"b\": \"Lancelot\"},\n",
    "    {\"a\": \"Arthur\",    \"type\": \"KING_TO\",    \"b\": \"Merlin\"},\n",
    "    {\"a\": \"Arthur\",    \"type\": \"ADVISEE_TO\", \"b\": \"Merlin\"},\n",
    "    {\"a\": \"Guinevere\", \"type\": \"WIFE_TO\",    \"b\": \"Arthur\"},\n",
    "    {\"a\": \"Guinevere\", \"type\": \"FRIEND_TO\",  \"b\": \"Lancelot\"},\n",
    "    {\"a\": \"Guinevere\", \"type\": \"FRIEND_TO\",  \"b\": \"Merlin\"},\n",
    "    {\"a\": \"Lancelot\",  \"type\": \"SUBJECT_TO\", \"b\": \"Arthur\"},\n",
    "    {\"a\": \"Lancelot\",  \"type\": \"FRIEND_TO\",  \"b\": \"Guinevere\"},\n",
    "    {\"a\": \"Merlin\",    \"type\": \"ADVISOR_TO\", \"b\": \"Arthur\"},\n",
    "    {\"a\": \"Merlin\",    \"type\": \"FRIEND_TO\",  \"b\": \"Guinevere\"}\n",
    "]\n",
    "\n",
    "# Initialize Selector\n",
    "selector    = NodeSelector(gdb)\n",
    "nodes       = selector.select(\"Person\")\n",
    "\n",
    "# Generate Relationships\n",
    "for relationship in relationships:\n",
    "    nodeA = list(selector.select(\"Person\", fullName = nameMap[relationship[\"a\"]]))[0]\n",
    "    nodeB = list(selector.select(\"Person\", fullName = nameMap[relationship[\"b\"]]))[0]\n",
    "    result = gdb.create(Relationship(nodeA, relationship[\"type\"], nodeB))\n",
    "\n",
    "# Query Relationships\n",
    "relationships = graph.match(rel_type = queryRelationship)\n",
    "    \n",
    "# Print Relationship\n",
    "for relationship in relationships:\n",
    "    print(relationship)"
   ]
  },
  {
   "cell_type": "markdown",
   "metadata": {},
   "source": [
    "It's worth noting that the relationship printed above prints the IDs for each node in the relationship rather than the named IDs as we saw previously. This is because the a unique ID is automatically generated using Py2Neo. While this may make the output less legible, it has the added benefit of ensuring of preventing duplicate IDs that may otherwise slip through. \n",
    "\n",
    "# Data Access\n",
    "\n",
    "We've placed the full [Disease Module Identification DREAM Challenge](https://www.synapse.org/#!Synapse:syn6156761/wiki/400645) data along with a small subset for this tutorial in a folder on the OHSU Church server. We'll be using the subset for the rest of the tutorial, but if you're feeling bold, go ahead and grab the full data and modify the code to load up a complete network. To do this:\n",
    "\n",
    "* Open up your preferred terminal app\n",
    "* If you haven't already cloned this repository to your local machine, go ahead and do that now\n",
    "    * To see how to do this, see the README.md of the Github repository\n",
    "* With the repository cloned, cd to its location.\n",
    "\n",
    "### Just a Subset Please (< 10 MB uncompressed)\n",
    "\n",
    "* Make a data directory and cd\n",
    "```\n",
    "mkdir -p data/subchallenge1/ && cd data/subchallenge1/\n",
    "```\n",
    "* Pull the data from Church: \n",
    "```\n",
    "scp USERNAME@church.ohsu.edu:~/../cordierb/neo4j-tutorial/data/subchallenge1/2_ppi_anonym_v2.txt .\n",
    "```\n",
    "\n",
    "### Full Disease Module Detection DREAM Challenge Data (~300 - 400MB uncompressed)\n",
    "\n",
    "* Pull the complete data folder from Church: \n",
    "```\n",
    "scp -r USERNAME@church.ohsu.edu:~/../cordierb/neo4j-tutorial/data .\n",
    "```\n",
    "\n",
    "**<span style=\"color: green;\">Tip:</span>** *If you're unfamiliar with the scp command, in brief, it allows you to transfer files and directories between machines (usually your local machine and a server). The trailing '.' in the command will pull the data to your current directory – if you're not already in the repository's directory, you can specify an absolute path in place of the '.' (e.g. ~/Desktop/neo4j-tutorial)*\n",
    "\n",
    "# Exploring The DREAM Data With NetworkX\n",
    "\n",
    "While Neo4j is a cool NoSQL database, given that the DREAM data for this tutorial has a relatively small footprint and Neo4j has few builtin tools for graph analysis, a more sane approach is to just load up a DREAM TSV file into NetworkX and start an analysis, which is the approach we've opted for below. \n",
    " \n",
    "### Importing the DREAM data"
   ]
  },
  {
   "cell_type": "code",
   "execution_count": 457,
   "metadata": {
    "collapsed": false
   },
   "outputs": [
    {
     "name": "stdout",
     "output_type": "stream",
     "text": [
      "Node A \tNode B \tEdge Weight\n",
      "0\t3\t0.461\n"
     ]
    }
   ],
   "source": [
    "import csv as CSV\n",
    "\n",
    "# Set to Data Directory\n",
    "dataFile = \"data/subchallenge1/1_ppi_anonym_v2.txt\"\n",
    "\n",
    "# Open Data and Store edgeList Reference\n",
    "with open(dataFile, \"r\") as data:\n",
    "    edgeData = CSV.reader(data, delimiter = \"\\t\")\n",
    "    # The Edge Data is Imported as Strings, Let's Type the Edge Weights to Floats and Nodes to Integers\n",
    "    edgeList = [tuple(map(lambda x: float(x) if \".\" in x else int(x), edge)) for edge in edgeData]\n",
    "    \n",
    "# So What Does an Individual Edge Look Like?\n",
    "print(\"Node A \\tNode B \\tEdge Weight\")\n",
    "print(\"\\t\".join(str(x) for x in edgeList[0]))"
   ]
  },
  {
   "cell_type": "markdown",
   "metadata": {
    "collapsed": false
   },
   "source": [
    "### Generating The Network"
   ]
  },
  {
   "cell_type": "code",
   "execution_count": null,
   "metadata": {
    "collapsed": true
   },
   "outputs": [],
   "source": []
  },
  {
   "cell_type": "markdown",
   "metadata": {},
   "source": [
    "### Creating an Edge"
   ]
  },
  {
   "cell_type": "code",
   "execution_count": null,
   "metadata": {
    "collapsed": true
   },
   "outputs": [],
   "source": []
  },
  {
   "cell_type": "markdown",
   "metadata": {},
   "source": [
    "### Writing a Query"
   ]
  },
  {
   "cell_type": "code",
   "execution_count": null,
   "metadata": {
    "collapsed": true
   },
   "outputs": [],
   "source": []
  },
  {
   "cell_type": "markdown",
   "metadata": {
    "collapsed": true
   },
   "source": [
    "### Module Detection"
   ]
  },
  {
   "cell_type": "code",
   "execution_count": null,
   "metadata": {
    "collapsed": true
   },
   "outputs": [],
   "source": []
  },
  {
   "cell_type": "markdown",
   "metadata": {},
   "source": [
    "# Common Issues & Their Solutions\n",
    "\n",
    "### If You Previously Installed Neo4j and Forgot Your Username/Password\n",
    "\n",
    "Resetting your Neo4j password isn't exactly intuitive. If you installed Neo4j using Homebrew previously and forgot your password, here's a reset method that *should* work (admittedly, I haven't quite sorted out the intricacies of this methods' behavior, but it has worked for me before and won't do any harm...): \n",
    "\n",
    "* Navigate to the location of Neo4j's authentication file (again, replace `VERSION` with the version number you just wrote down):\n",
    "```\n",
    "cd ~/../../usr/local/Cellar/neo4j/VERSION/libexec/data/dbms/\n",
    "```\n",
    "* Next, remove the authentication file and restart Neo4j.\n",
    "```\n",
    "rm auth\n",
    "neo4j restart\n",
    "```\n",
    "* In your browser, go to [`http://localhost:7474`](http:////localhost:7474).\n",
    "\n",
    "If it worked, you should be prompted to setup your authentication (again). \n",
    "\n",
    "**<span style=\"color: green;\">Tip:</span>** This method was tested on a Homebrew installation, but if you can find the root of your Neo4j installation, from there you should be able to access ```data/dbms/``` and perform ```rm auth``` or similar.*\n",
    "\n",
    "### Port Bind Exception\n",
    "\n",
    "You may encounter the following error (piled within a big, ugly stack trace):\n",
    "```\n",
    "org.neo4j.helpers.PortBindException: Address localhost:7687 is already in use, cannot bind to it\n",
    "```\n",
    "\n",
    "The likely culprit is another java program running on your OS. A potential solution for this is to terminate all Java processes and then restarting neo4j:\n",
    "```\n",
    "killall -9 java\n",
    "neo4j console\n",
    "```\n",
    "\n",
    "### Server Certificate Does Not Match Known Certificate for 'localhost'\n",
    "\n",
    "You may encounter the following error when using the Python Neo4j driver middleware after upgrading Neo4j:\n",
    "```\n",
    "ProtocolError: Server certificate does not match known certificate for 'localhost'; check details in file '/Users/Benjamin/.neo4j/known_hosts'\n",
    "```\n",
    "\n",
    "If you're not accessing Neo4j using multiple hosts (which is unlikely), open up a terminal tab and run the following commands:\n",
    "```\n",
    "cd ~/.neo4j\n",
    "rm known_hosts\n",
    "touch known_hosts\n",
    "```\n",
    "\n",
    "If you are using multiple hosts, follow the above but, instead of removing the known_hosts file, edit the file to remove the localhost entry and its associated certificate key.\n",
    "\n",
    "### General SSL Engine Problem\n",
    "\n",
    "This error is the Java version of the above error:\n",
    "```\n",
    "General SSLEngine problem\n",
    "```\n",
    "\n",
    "To solve this, follow the same steps for the above error (Server Certificate Does Not Match Known Certificate for 'localhost')."
   ]
  },
  {
   "cell_type": "code",
   "execution_count": null,
   "metadata": {
    "collapsed": true
   },
   "outputs": [],
   "source": []
  }
 ],
 "metadata": {
  "kernelspec": {
   "display_name": "Python 3",
   "language": "python",
   "name": "python3"
  },
  "language_info": {
   "codemirror_mode": {
    "name": "ipython",
    "version": 3
   },
   "file_extension": ".py",
   "mimetype": "text/x-python",
   "name": "python",
   "nbconvert_exporter": "python",
   "pygments_lexer": "ipython3",
   "version": "3.5.2"
  }
 },
 "nbformat": 4,
 "nbformat_minor": 0
}
